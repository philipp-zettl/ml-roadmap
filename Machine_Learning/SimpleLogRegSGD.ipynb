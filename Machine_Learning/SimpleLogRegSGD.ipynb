{
  "nbformat": 4,
  "nbformat_minor": 0,
  "metadata": {
    "colab": {
      "name": "SimpleLogRegSGD.ipynb",
      "provenance": [],
      "collapsed_sections": [],
      "toc_visible": true
    },
    "kernelspec": {
      "name": "python3",
      "display_name": "Python 3"
    },
    "language_info": {
      "name": "python"
    }
  },
  "cells": [
    {
      "cell_type": "markdown",
      "metadata": {
        "id": "DIIKdkU59dqH"
      },
      "source": [
        "# Training a simple logistical regression model using statistical gradient descent"
      ]
    },
    {
      "cell_type": "code",
      "metadata": {
        "id": "IiPbSjWyz1fo"
      },
      "source": [
        "# import necessary libs\n",
        "import matplotlib.pyplot as plt\n",
        "import numpy as np"
      ],
      "execution_count": 1,
      "outputs": []
    },
    {
      "cell_type": "markdown",
      "metadata": {
        "id": "Iliq-0IX9ykL"
      },
      "source": [
        "The perfect training cycle does not exists and training your model depends on the data you use for training.  \n",
        "Yet the desired error rate would look like this:"
      ]
    },
    {
      "cell_type": "code",
      "metadata": {
        "colab": {
          "base_uri": "https://localhost:8080/",
          "height": 320
        },
        "id": "ptpE8HxJ4VH-",
        "outputId": "d48c55b1-7c25-4632-d295-2a5ee9f5805a"
      },
      "source": [
        "x = np.linspace(1, 2, 100)\n",
        "\n",
        "f = lambda x: 1/np.log(x)\n",
        "plt.plot(f(x), x)\n",
        "plt.show()"
      ],
      "execution_count": 2,
      "outputs": [
        {
          "output_type": "stream",
          "name": "stderr",
          "text": [
            "/usr/local/lib/python3.7/dist-packages/ipykernel_launcher.py:3: RuntimeWarning: divide by zero encountered in true_divide\n",
            "  This is separate from the ipykernel package so we can avoid doing imports until\n"
          ]
        },
        {
          "output_type": "display_data",
          "data": {
            "image/png": "[encoded data removed]",
            "text/plain": [
              "<Figure size 432x288 with 1 Axes>"
            ]
          },
          "metadata": {
            "needs_background": "light"
          }
        }
      ]
    },
    {
      "cell_type": "markdown",
      "metadata": {
        "id": "QawvZ-sq-U-7"
      },
      "source": [
        "Lets initialize a model and implement a training loop to apply GD on the regression model.\n",
        "\n",
        "For simplification we use normal distributed data, stretched by a factor of $2$ and with the initial bias $b_0 = 4$ and the slope $b_1 = 3.5$."
      ]
    },
    {
      "cell_type": "code",
      "metadata": {
        "id": "TlOWUa37-6Kf"
      },
      "source": [
        "n     = 200 # number of observations\n",
        "bias  = 4\n",
        "slope = 3.5\n",
        "\n",
        "# inputs\n",
        "x   = np.random.normal(0, 0.1, n) * 2\n",
        "# target outputs\n",
        "y   = bias + slope * x + np.random.normal(0, 0.1, n)\n",
        "df  = np.array(x + y)\n",
        "df.resize((2, n))\n",
        "\n",
        "x_b = x.copy()\n",
        "x_b.resize((2, n))\n",
        "x_b[1,:] = 1\n",
        "\n",
        "# this is a very important parameter\n",
        "# if the lr is too low, or if it's too high the model might not converge\n",
        "learning_rate = 0.05\n",
        "n_iterations  = 2000 #  aka epochs\n",
        "theta         = np.array([20, 20])\n",
        "\n",
        "# structures to hold parameters from each training epoch\n",
        "b0    = np.zeros(n_iterations)\n",
        "b1    = np.zeros(n_iterations)\n",
        "sse_i = np.zeros(n_iterations)"
      ],
      "execution_count": 3,
      "outputs": []
    },
    {
      "cell_type": "markdown",
      "metadata": {
        "id": "b3sZr8naFU-4"
      },
      "source": [
        "## Visualization of the dataset"
      ]
    },
    {
      "cell_type": "code",
      "metadata": {
        "colab": {
          "base_uri": "https://localhost:8080/",
          "height": 283
        },
        "id": "8nv6juStFSym",
        "outputId": "6d8625ab-e63d-488d-9b18-bb182aa4e0bf"
      },
      "source": [
        "plt.plot(x, y, '*')"
      ],
      "execution_count": 4,
      "outputs": [
        {
          "output_type": "execute_result",
          "data": {
            "text/plain": [
              "[<matplotlib.lines.Line2D at 0x7f41c9d93810>]"
            ]
          },
          "metadata": {},
          "execution_count": 4
        },
        {
          "output_type": "display_data",
          "data": {
            "image/png": "[encoded data removed]",
            "text/plain": [
              "<Figure size 432x288 with 1 Axes>"
            ]
          },
          "metadata": {
            "needs_background": "light"
          }
        }
      ]
    },
    {
      "cell_type": "markdown",
      "metadata": {
        "id": "wwl33PVx-5aW"
      },
      "source": [
        "The training loop that calculates the mean square error for the gradients `gradients` as well as the local approximation error `sse_i`, then uses `gradients` to approximate new values of `theta`"
      ]
    },
    {
      "cell_type": "code",
      "metadata": {
        "id": "Re0uYooCAqt2"
      },
      "source": [
        "iteration = 0\n",
        "iter_gradients = list()\n",
        "for iteration in range(n_iterations):\n",
        "  yhat               = x_b.T @ theta          # predict using weights in theta\n",
        "  residuals_b        = yhat - y                 # calculate the residuals\n",
        "  gradients          = 2/n * (x_b @ residuals_b) # calculate the gradients of MSE w.r.t model weights \n",
        "  theta              = theta - learning_rate * gradients # update theta \n",
        "  \n",
        "  iter_gradients.append(gradients)\n",
        "  sse_i[iteration] = np.sum((y - (x_b.T @ theta))**2)\n",
        "  b0[iteration]    = theta[1]\n",
        "  b1[iteration]    = theta[0]\n"
      ],
      "execution_count": 5,
      "outputs": []
    },
    {
      "cell_type": "markdown",
      "metadata": {
        "id": "AirWSBAd_Yrx"
      },
      "source": [
        "## Visualization of the results"
      ]
    },
    {
      "cell_type": "code",
      "metadata": {
        "colab": {
          "base_uri": "https://localhost:8080/",
          "height": 817
        },
        "id": "WICCxccj_WEG",
        "outputId": "6b90975a-67c7-4756-e86d-47a16d81a36e"
      },
      "source": [
        "iter_gradients = np.array(iter_gradients)\n",
        "plt.plot(sse_i)\n",
        "plt.title('Local approximation error $|| y - \\hat{y} ||_2$')\n",
        "plt.show()\n",
        "\n",
        "plt.plot(iter_gradients[:, 0], '*')\n",
        "plt.title('Gradient $b_0$')\n",
        "plt.show()\n",
        "\n",
        "plt.plot(iter_gradients[:, 1], '*')\n",
        "plt.title('Gradient $b_1$')\n",
        "plt.show()"
      ],
      "execution_count": 6,
      "outputs": [
        {
          "output_type": "display_data",
          "data": {
            "image/png": "[encoded data removed]",
            "text/plain": [
              "<Figure size 432x288 with 1 Axes>"
            ]
          },
          "metadata": {
            "needs_background": "light"
          }
        },
        {
          "output_type": "display_data",
          "data": {
            "image/png": "[encoded data removed]",
            "text/plain": [
              "<Figure size 432x288 with 1 Axes>"
            ]
          },
          "metadata": {
            "needs_background": "light"
          }
        },
        {
          "output_type": "display_data",
          "data": {
            "image/png": "[encoded data removed]",
            "text/plain": [
              "<Figure size 432x288 with 1 Axes>"
            ]
          },
          "metadata": {
            "needs_background": "light"
          }
        }
      ]
    },
    {
      "cell_type": "markdown",
      "metadata": {
        "id": "nLEbzXU0COhH"
      },
      "source": [
        "### Conclusion:\n",
        "As you can see the desired graph and the resulting graph look quite similar. \n",
        "\n",
        "Since we can visualize that the model has been learning, let's check the results and build a prediction function to use our trained parameters."
      ]
    },
    {
      "cell_type": "code",
      "metadata": {
        "colab": {
          "base_uri": "https://localhost:8080/"
        },
        "id": "xetCiwygCfT-",
        "outputId": "124b7c95-a641-4e2c-9fb5-1c2ca9850c50"
      },
      "source": [
        "def predict(x):\n",
        "  x_ = np.zeros((2, len(x)))\n",
        "  x_[0, :] = x\n",
        "  x_[1, :] = 1\n",
        "  return x_.T @ theta\n",
        "\n",
        "val = np.random.normal(0, 0.1, 1)\n",
        "out = predict(val)\n",
        "\n",
        "print(f'{((bias + val * slope) - out)[0]} < 0.1 == {((bias + val * slope) - out)[0] < 0.1}')"
      ],
      "execution_count": 9,
      "outputs": [
        {
          "output_type": "stream",
          "name": "stdout",
          "text": [
            "0.014216048452229568 < 0.1 == True\n"
          ]
        }
      ]
    }
  ]
}