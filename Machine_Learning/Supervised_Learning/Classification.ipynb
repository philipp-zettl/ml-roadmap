{
  "nbformat": 4,
  "nbformat_minor": 0,
  "metadata": {
    "colab": {
      "name": "Classification.ipynb",
      "provenance": [],
      "collapsed_sections": []
    },
    "kernelspec": {
      "name": "python3",
      "display_name": "Python 3"
    },
    "language_info": {
      "name": "python"
    }
  },
  "cells": [
    {
      "cell_type": "markdown",
      "metadata": {
        "id": "a5Kupl_YwNei"
      },
      "source": [
        "# Classification\n",
        "\n",
        "Classification is the process of predicting the class of given data points. Classes are sometiems called labels, targets or categories.  \n",
        "Classification predictive modeling, short classification, is the task of approximating a mapping function $f$ from input variables $X$ to discrete output variables $y$.\n",
        "\n",
        "An example for a binary classification might be a spam detector for your email service, since there are only 2 classes, spam or no spam, to classify. If we train our classification algorithm right, we're able to classify previously unknown emails correctly.\n",
        "\n",
        "Classification algorithms belongs to the family of supervised learning algoirthms. There are two types of learners in classification\n",
        "\n",
        "## Lazy\n",
        "- store training data\n",
        "- classifies based on most related data\n",
        "- less training time but more time to predict than eager learners\n",
        "- knn, case-based reasoning\n",
        "\n",
        "## Eager\n",
        "- construct classification model based on given training data\n",
        "- requires single hypothesis that covers entire instance space\n",
        "- long time training but little time predicting\n",
        "- Decision Tree, Naive Bayes, Artificial NN\n",
        "\n",
        "# Algorithms\n",
        "As in any field of ML there's **no algorithm that fits all** needs. The decision on the algorithm depends on the application and the nature of the available data set.\n",
        "\n",
        "Starting with eager algorithms.\n",
        "\n",
        "## Logistic Regression\n",
        "- A regression model used for classification\n",
        "- used when the features are categorial\n",
        "\n",
        "### Code\n"
      ]
    },
    {
      "cell_type": "code",
      "metadata": {
        "id": "-7zZzmvZOdWe"
      },
      "source": [
        "# predefine some methods to use later\n",
        "def avg_error(errors, batch_size=50):\n",
        "  return np.array([np.average(np.array(errors[i*batch_size:(i+1)*batch_size], dtype=float)) for i in range(int(len(errors)/batch_size))])"
      ],
      "execution_count": 37,
      "outputs": []
    },
    {
      "cell_type": "code",
      "metadata": {
        "colab": {
          "base_uri": "https://localhost:8080/"
        },
        "id": "dMA-CQ3jsCHB",
        "outputId": "cf292ce0-b037-4099-b053-6731f0171093"
      },
      "source": [
        "import numpy as np\n",
        "from sklearn.datasets import load_iris\n",
        "from sklearn.model_selection import train_test_split\n",
        "from sklearn.linear_model import LogisticRegression\n",
        "X, y = load_iris(return_X_y=True)\n",
        "X = X[:, :2]\n",
        "X_train, X_test, y_train, y_test = train_test_split(X, y, test_size=0.2, random_state=9)\n",
        "\n",
        "# Create an instance of Logistic Regression Classifier and fit the data.\n",
        "logreg = LogisticRegression(C=1e6)\n",
        "logreg.fit(X_train, y_train)\n",
        "\n",
        "output = logreg.predict(X_test)\n",
        "\n",
        "print(f'Predicted {len(y_test) - sum(np.abs(output-y_test))}/{len(y_test)} right.')\n"
      ],
      "execution_count": 38,
      "outputs": [
        {
          "output_type": "stream",
          "name": "stdout",
          "text": [
            "Predicted 28/30 right.\n"
          ]
        }
      ]
    },
    {
      "cell_type": "markdown",
      "metadata": {
        "id": "vg4Q_yuDsCj-"
      },
      "source": [
        "\n",
        "\n",
        "## Decision Tree\n",
        "- builds classifiction or regression models in form of a tree structure\n",
        "- utilizes a set of conditionals which is mutually exclusive and exhaustive for classification\n",
        "- learns sequentially using training data\n",
        "- repeated learning until meeting a terminal condition\n",
        "- top-down recursive divide-and-conquer construction\n",
        "- categorial or discretized attributes\n",
        "- attributes higher in the tree have more impact towards classification\n",
        "- tends to\n",
        "  - overfit and generate too many branches\n",
        "  - reflects anomalies\n",
        "- can be improved by\n",
        "  - pre-pruning\n",
        "  - post-pruning\n",
        "\n",
        "#### Code"
      ]
    },
    {
      "cell_type": "code",
      "metadata": {
        "id": "4Uo57OU-06Nr"
      },
      "source": [
        "from sklearn import tree\n",
        "\n",
        "X = [[0, 0], [1, 1]]\n",
        "Y = [0, 1]\n",
        "clf = tree.DecisionTreeClassifier()\n",
        "clf = clf.fit(X, Y)"
      ],
      "execution_count": 39,
      "outputs": []
    },
    {
      "cell_type": "code",
      "metadata": {
        "colab": {
          "base_uri": "https://localhost:8080/"
        },
        "id": "sNLF30up1HAl",
        "outputId": "16f4e908-7bc6-4eca-8add-05030a15c68b"
      },
      "source": [
        "clf.predict([[2,2]])"
      ],
      "execution_count": 40,
      "outputs": [
        {
          "output_type": "execute_result",
          "data": {
            "text/plain": [
              "array([1])"
            ]
          },
          "metadata": {},
          "execution_count": 40
        }
      ]
    },
    {
      "cell_type": "code",
      "metadata": {
        "colab": {
          "base_uri": "https://localhost:8080/"
        },
        "id": "cdLVVbzp1Jfm",
        "outputId": "8fc852ab-3de1-4928-c29e-9d7115d678be"
      },
      "source": [
        "proba = clf.predict_proba([[2., 2.]])\n",
        "log_proba = clf.predict_log_proba([[2., 2.]])\n",
        "\n",
        "print(proba)\n",
        "print(log_proba)"
      ],
      "execution_count": 41,
      "outputs": [
        {
          "output_type": "stream",
          "name": "stdout",
          "text": [
            "[[0. 1.]]\n",
            "[[-inf   0.]]\n"
          ]
        },
        {
          "output_type": "stream",
          "name": "stderr",
          "text": [
            "/usr/local/lib/python3.7/dist-packages/sklearn/tree/_classes.py:948: RuntimeWarning: divide by zero encountered in log\n",
            "  return np.log(proba)\n"
          ]
        }
      ]
    },
    {
      "cell_type": "markdown",
      "metadata": {
        "id": "8iI5pGDa1jU6"
      },
      "source": [
        "Now using a more advanced, multiclass example for classification:"
      ]
    },
    {
      "cell_type": "code",
      "metadata": {
        "id": "yTssmyLD1ZTN"
      },
      "source": [
        "from sklearn.datasets import load_iris\n",
        "from sklearn import tree\n",
        "\n",
        "iris = load_iris()\n",
        "X, y = iris.data, iris.target\n",
        "clf = tree.DecisionTreeClassifier()\n",
        "clf = clf.fit(X, y)"
      ],
      "execution_count": 42,
      "outputs": []
    },
    {
      "cell_type": "markdown",
      "metadata": {
        "id": "PhEL4C4Q19Mg"
      },
      "source": [
        "After a tree is trained, it can be visualized using"
      ]
    },
    {
      "cell_type": "code",
      "metadata": {
        "colab": {
          "base_uri": "https://localhost:8080/",
          "height": 543
        },
        "id": "jCuZlPAQ11Qh",
        "outputId": "67a46429-7b37-4c1c-9dda-7292ea295b92"
      },
      "source": [
        "tree.plot_tree(clf)"
      ],
      "execution_count": 43,
      "outputs": [
        {
          "output_type": "execute_result",
          "data": {
            "text/plain": [
              "[Text(167.4, 199.32, 'X[2] <= 2.45\\ngini = 0.667\\nsamples = 150\\nvalue = [50, 50, 50]'),\n",
              " Text(141.64615384615385, 163.07999999999998, 'gini = 0.0\\nsamples = 50\\nvalue = [50, 0, 0]'),\n",
              " Text(193.15384615384616, 163.07999999999998, 'X[3] <= 1.75\\ngini = 0.5\\nsamples = 100\\nvalue = [0, 50, 50]'),\n",
              " Text(103.01538461538462, 126.83999999999999, 'X[2] <= 4.95\\ngini = 0.168\\nsamples = 54\\nvalue = [0, 49, 5]'),\n",
              " Text(51.50769230769231, 90.6, 'X[3] <= 1.65\\ngini = 0.041\\nsamples = 48\\nvalue = [0, 47, 1]'),\n",
              " Text(25.753846153846155, 54.359999999999985, 'gini = 0.0\\nsamples = 47\\nvalue = [0, 47, 0]'),\n",
              " Text(77.26153846153846, 54.359999999999985, 'gini = 0.0\\nsamples = 1\\nvalue = [0, 0, 1]'),\n",
              " Text(154.52307692307693, 90.6, 'X[3] <= 1.55\\ngini = 0.444\\nsamples = 6\\nvalue = [0, 2, 4]'),\n",
              " Text(128.76923076923077, 54.359999999999985, 'gini = 0.0\\nsamples = 3\\nvalue = [0, 0, 3]'),\n",
              " Text(180.27692307692308, 54.359999999999985, 'X[0] <= 6.95\\ngini = 0.444\\nsamples = 3\\nvalue = [0, 2, 1]'),\n",
              " Text(154.52307692307693, 18.119999999999976, 'gini = 0.0\\nsamples = 2\\nvalue = [0, 2, 0]'),\n",
              " Text(206.03076923076924, 18.119999999999976, 'gini = 0.0\\nsamples = 1\\nvalue = [0, 0, 1]'),\n",
              " Text(283.2923076923077, 126.83999999999999, 'X[2] <= 4.85\\ngini = 0.043\\nsamples = 46\\nvalue = [0, 1, 45]'),\n",
              " Text(257.53846153846155, 90.6, 'X[1] <= 3.1\\ngini = 0.444\\nsamples = 3\\nvalue = [0, 1, 2]'),\n",
              " Text(231.7846153846154, 54.359999999999985, 'gini = 0.0\\nsamples = 2\\nvalue = [0, 0, 2]'),\n",
              " Text(283.2923076923077, 54.359999999999985, 'gini = 0.0\\nsamples = 1\\nvalue = [0, 1, 0]'),\n",
              " Text(309.04615384615386, 90.6, 'gini = 0.0\\nsamples = 43\\nvalue = [0, 0, 43]')]"
            ]
          },
          "metadata": {},
          "execution_count": 43
        },
        {
          "output_type": "display_data",
          "data": {
            "image/png": "[encoded data removed]",
            "text/plain": [
              "<Figure size 432x288 with 1 Axes>"
            ]
          },
          "metadata": {
            "needs_background": "light"
          }
        }
      ]
    },
    {
      "cell_type": "code",
      "metadata": {
        "colab": {
          "base_uri": "https://localhost:8080/"
        },
        "id": "jK1Puhyn3Ldo",
        "outputId": "6f3e50f9-8d4e-400a-a621-ad4c96f0163a"
      },
      "source": [
        "input_val = [X[15,:]]\n",
        "output_val = y[15]\n",
        "\n",
        "pre_tree = clf.predict(input_val)[0]\n",
        "\n",
        "print(f'Tree predicted class {pre_tree}, expected {output_val}')"
      ],
      "execution_count": 44,
      "outputs": [
        {
          "output_type": "stream",
          "name": "stdout",
          "text": [
            "Tree predicted class 0, expected 0\n"
          ]
        }
      ]
    },
    {
      "cell_type": "code",
      "metadata": {
        "colab": {
          "base_uri": "https://localhost:8080/"
        },
        "id": "stsnzJB74BZG",
        "outputId": "8bbe76be-2c6d-4a3d-d2fd-5a4424129684"
      },
      "source": [
        "import numpy as np\n",
        "iris = load_iris()\n",
        "X, y = iris.data, iris.target\n",
        "\n",
        "x_shape = (X.shape[0] - 1, X.shape[1])\n",
        "\n",
        "# extract single element, becomes \"unknown\" element\n",
        "x = [X[5]]\n",
        "out = y[5]\n",
        "\n",
        "X = np.delete(X, 5, 0)\n",
        "y = np.delete(y, 5, 0)\n",
        "X = X.reshape(x_shape)\n",
        "\n",
        "# train the tree\n",
        "clf = tree.DecisionTreeClassifier()\n",
        "clf = clf.fit(X, y)\n",
        "\n",
        "# make the prediction\n",
        "clf.predict(x) # 0\n",
        "clf.predict_proba(x) # [1, 0, 0]\n"
      ],
      "execution_count": 45,
      "outputs": [
        {
          "output_type": "execute_result",
          "data": {
            "text/plain": [
              "array([[1., 0., 0.]])"
            ]
          },
          "metadata": {},
          "execution_count": 45
        }
      ]
    },
    {
      "cell_type": "markdown",
      "metadata": {
        "id": "dmJzMSes2TLg"
      },
      "source": [
        "## Naive Bayes\n",
        "- probabilistic classifier under assumption that the attributes are conditionally independent\n",
        "$$\n",
        "P(X, c_i) = \\prod \\limits_{k=1}^n P(x_k|c_i) = P(x_1|c_i)\\times P(x_2|c_i)\\times \\ldots \\times P(x_n | c_i)\n",
        "$$\n",
        "- classification is conducted by deriving the max posterior, $\\max\\, P(c_i|X)$\n",
        "- simple algorithm to implement\n",
        "- good results in most cases\n",
        "- easy scalable to large datasets\n",
        "- can suffer from zero probability problem\n",
        "- needs to be fixed with laplacian estimator\n",
        "\n",
        "### Implementations\n",
        "\n",
        "There are multiple implementations available in `sklearn`.\n",
        "\n",
        "We'll start with **Gaussian Naive Bayes**.\n",
        "\n",
        "#### Gaussian Naive Bayes\n",
        "The likelihood of the features is assumed to be Gaussian\n",
        "\n",
        "$$\n",
        "P(x_i|y) = \\frac{1}{\\sqrt{2\\pi\\sigma_{y}^{2}}}\n",
        "\\text{exp}\n",
        "\\left(\n",
        "  -\\frac{(x_i-\\mu_y)^2}{2\\sigma_y^2}\\right)\n",
        "$$\n",
        "where we use the maximum likelihood to estimate $\\sigma_y$ and $\\mu_y$."
      ]
    },
    {
      "cell_type": "code",
      "metadata": {
        "id": "SghYF5nb12nT"
      },
      "source": [
        "from sklearn.datasets import load_iris\n",
        "from sklearn.model_selection import train_test_split\n",
        "from sklearn.naive_bayes import GaussianNB\n",
        "X, y = load_iris(return_X_y=True)\n",
        "X_train, X_test, y_train, y_test = train_test_split(X, y, test_size=0.5, random_state=0)"
      ],
      "execution_count": 46,
      "outputs": []
    },
    {
      "cell_type": "code",
      "metadata": {
        "colab": {
          "base_uri": "https://localhost:8080/"
        },
        "id": "XjPnLgnF63lT",
        "outputId": "690f961f-5f57-4979-cb3c-cd9e5a2146c4"
      },
      "source": [
        "clf = GaussianNB()\n",
        "clf.fit(X_train, y_train)\n",
        "\n",
        "y_pred = clf.predict(X_test)\n",
        "\n",
        "print(f'Number of mislabled points out of a total of {X_test.shape[0]} points: {(y_test != y_pred).sum()}')\n"
      ],
      "execution_count": 47,
      "outputs": [
        {
          "output_type": "stream",
          "name": "stdout",
          "text": [
            "Number of mislabled points out of a total of 75 points: 4\n"
          ]
        }
      ]
    },
    {
      "cell_type": "markdown",
      "metadata": {
        "id": "nzxBEyI78r8I"
      },
      "source": [
        "#### Multinomial Naive Bayes (MNB)\n",
        "- naive Bayes for multinomially distributed data\n",
        "- used in text classification\n",
        "\n",
        "#### Complement Naive Bayes (CNB)\n",
        "- adaptation of MNB\n",
        "- suits for imbalanced datasets\n",
        "- used in text classification\n",
        "\n",
        "#### Bernoulli Naive Bayes\n",
        "- for multivariante Bernoulli distributed data\n",
        "- might have multiple features, but each needs to be binary\n",
        "- binary input\n",
        "- for text classification use word occurence vectors rather than word count vectors\n",
        "\n",
        "#### Categorical Naive Bayes\n",
        "- for categorial distributed data where each features has its own categorial distribution\n",
        "- assumes that all categories for all features are represented with numbers $0, \\ldots, n_i - 1$ "
      ]
    },
    {
      "cell_type": "markdown",
      "metadata": {
        "id": "aboX2jxeDg3A"
      },
      "source": [
        "## Artificial Neural Networks\n",
        "A artificial neural network is a set of connected input/output units where each connection has a weight associated with it. During the learning phase, the network learns by adjusting the weights so as to be able to predict the correct class label of the input tuples.\n",
        "\n",
        "There are many network architectures like\n",
        "- Feed Forward NNs\n",
        "- Convolutional NNs\n",
        "- Recurrent NNs\n",
        "\n",
        "But the appropriate architecture depends on the application of the model. So again **no network that fits all needs**. But it's safe to claim that for most cases feed-forward models give reasonably accurate results and especially for tasks like image processing, convolutional networks perform better.\n",
        "\n",
        "Depending on the complexity of the function which is mapped to the model the model can or can not have multiple hidden layers. Having more hidden layers enables to model complex relationships such as deep neural networks.\n",
        "\n",
        "#### Pros:\n",
        "- perform impressively in most real world applications\n",
        "- high tolerance to noisy data\n",
        "- can classify untrained patterns\n",
        "- perform usually better with continuous-valued input and output\n",
        "\n",
        "#### Cons:\n",
        "- many hidden layers <=> long training time\n",
        "- poor interpretability of the model, compared to other models like Decision Trees, due to unknown symbolic meaning of learned weights\n",
        "\n",
        "### Code\n",
        "\n",
        "using `sklearn`"
      ]
    },
    {
      "cell_type": "code",
      "metadata": {
        "id": "6mZVM30qDo1n"
      },
      "source": [
        "from sklearn.datasets import load_iris\n",
        "from sklearn.model_selection import train_test_split\n",
        "from sklearn.neural_network import MLPClassifier\n",
        "import matplotlib.pyplot as plt\n",
        "\n",
        "\n",
        "X, y = load_iris(return_X_y=True)\n",
        "X_train, X_test, y_train, y_test = train_test_split(X, y, test_size=0.5, random_state=0)\n",
        "\n",
        "\n",
        "transformed_y_train = []\n",
        "for elem in y_train:\n",
        "  vec = [0,0,0]\n",
        "  vec[elem] = 1.0\n",
        "  transformed_y_train.append(vec)\n",
        "\n",
        "X_train = X_train\n",
        "y_train = transformed_y_train\n"
      ],
      "execution_count": 48,
      "outputs": []
    },
    {
      "cell_type": "code",
      "metadata": {
        "colab": {
          "base_uri": "https://localhost:8080/"
        },
        "id": "9ws2nkG8Ffej",
        "outputId": "b591fba6-5930-4714-98b8-222fa0ae1d69"
      },
      "source": [
        "clf = MLPClassifier()\n",
        "clf.fit(X_train, y_train)\n",
        "\n",
        "output = clf.predict([X_test[5, :]])\n",
        "\n",
        "print(f'Predicted: {output}, Expected: {y_test[5]}')"
      ],
      "execution_count": 49,
      "outputs": [
        {
          "output_type": "stream",
          "name": "stdout",
          "text": [
            "Predicted: [[0 0 1]], Expected: 2\n"
          ]
        },
        {
          "output_type": "stream",
          "name": "stderr",
          "text": [
            "/usr/local/lib/python3.7/dist-packages/sklearn/neural_network/_multilayer_perceptron.py:571: ConvergenceWarning: Stochastic Optimizer: Maximum iterations (200) reached and the optimization hasn't converged yet.\n",
            "  % self.max_iter, ConvergenceWarning)\n"
          ]
        }
      ]
    },
    {
      "cell_type": "markdown",
      "metadata": {
        "id": "XeDWE_t3HLt-"
      },
      "source": [
        "#### `pytorch`"
      ]
    },
    {
      "cell_type": "code",
      "metadata": {
        "id": "4R6zJyewHEz7"
      },
      "source": [
        "import torch\n",
        "torch_X_train = torch.tensor(X_train, dtype=float)\n",
        "torch_y_train = torch.tensor(y_train, dtype=float)\n"
      ],
      "execution_count": 50,
      "outputs": []
    },
    {
      "cell_type": "markdown",
      "metadata": {
        "id": "IueKQcGwH84F"
      },
      "source": [
        "Single layer FNN.\n",
        "\n",
        "**One note:** We need to encode the three available classes \"Iris setosa, \"Iris virginica\" and \"Iris versicolor\" as three output parameters, to later on get the probability for each class and use simple $\\text{argmax}(y_0, y_1, y_2)$ as the final classification."
      ]
    },
    {
      "cell_type": "code",
      "metadata": {
        "colab": {
          "base_uri": "https://localhost:8080/"
        },
        "id": "TarKazbtHSGY",
        "outputId": "93b92287-f9fb-4280-d4cd-f3809c83ad45"
      },
      "source": [
        "layer1 = torch.nn.Linear(X_train.shape[1], 3, dtype=float)\n",
        "\n",
        "layer1(torch.tensor(X_test[5], dtype=float))"
      ],
      "execution_count": 51,
      "outputs": [
        {
          "output_type": "execute_result",
          "data": {
            "text/plain": [
              "tensor([-3.2668, -5.8943, -0.6303], dtype=torch.float64,\n",
              "       grad_fn=<AddBackward0>)"
            ]
          },
          "metadata": {},
          "execution_count": 51
        }
      ]
    },
    {
      "cell_type": "markdown",
      "metadata": {
        "id": "o2OFrpNKIlKA"
      },
      "source": [
        "Adding an optimizer to train with"
      ]
    },
    {
      "cell_type": "code",
      "metadata": {
        "id": "Uk1QSRkZINtK"
      },
      "source": [
        "optim = torch.optim.SGD(layer1.parameters(), lr=0.1)"
      ],
      "execution_count": 52,
      "outputs": []
    },
    {
      "cell_type": "markdown",
      "metadata": {
        "id": "te4woGizLXVI"
      },
      "source": [
        "Trying to train the single layer model"
      ]
    },
    {
      "cell_type": "code",
      "metadata": {
        "colab": {
          "base_uri": "https://localhost:8080/"
        },
        "id": "xqPw9i7sI2rO",
        "outputId": "e449a474-b8c3-4b71-cb9f-a6ba4b5bff48"
      },
      "source": [
        "\n",
        "for i in range(50):\n",
        "  optim.zero_grad()\n",
        "\n",
        "  o = layer1(torch_X_train)\n",
        "  \n",
        "  error = torch.sum((o.view(-1) - torch_y_train.view(-1)) ** 2)\n",
        "  error.backward()\n",
        "  if i % 50 == 0:\n",
        "    print(error)\n",
        "  optim.step()\n"
      ],
      "execution_count": 53,
      "outputs": [
        {
          "output_type": "stream",
          "name": "stdout",
          "text": [
            "tensor(2814.9379, dtype=torch.float64, grad_fn=<SumBackward0>)\n"
          ]
        }
      ]
    },
    {
      "cell_type": "code",
      "metadata": {
        "colab": {
          "base_uri": "https://localhost:8080/"
        },
        "id": "NZlkSqIaJWay",
        "outputId": "198927c7-dad9-4ff7-dcd0-eb9eb454d7d5"
      },
      "source": [
        "output = layer1(torch.tensor(X_test[5], dtype=float))\n",
        "\n",
        "print(output)\n",
        "print(f'Predicted: {torch.argmax(output)}, Expected: {y_test[5]}')"
      ],
      "execution_count": 54,
      "outputs": [
        {
          "output_type": "stream",
          "name": "stdout",
          "text": [
            "tensor([-1.3455e+149, -2.2378e+149, -6.5730e+148], dtype=torch.float64,\n",
            "       grad_fn=<AddBackward0>)\n",
            "Predicted: 2, Expected: 2\n"
          ]
        }
      ]
    },
    {
      "cell_type": "markdown",
      "metadata": {
        "id": "P-_0UeLkLaqj"
      },
      "source": [
        "As we can see the result is rather poor. Let's add another layer to the model."
      ]
    },
    {
      "cell_type": "code",
      "metadata": {
        "colab": {
          "base_uri": "https://localhost:8080/"
        },
        "id": "MZDAH8PMJd1w",
        "outputId": "e8d08c3a-4661-4354-fd3b-17da37d01a4d"
      },
      "source": [
        "layer1_out = 18\n",
        "layer2_out = 8\n",
        "final_out = 3\n",
        "\n",
        "layer1 = torch.nn.Linear(X_train.shape[1], layer1_out, dtype=float)\n",
        "layer2 = torch.nn.Linear(layer1_out, layer2_out, dtype=float)\n",
        "layer3 = torch.nn.Linear(layer2_out, final_out, dtype=float)\n",
        "layer3(layer2(layer1(torch.tensor(X_test[5], dtype=float))))"
      ],
      "execution_count": 55,
      "outputs": [
        {
          "output_type": "execute_result",
          "data": {
            "text/plain": [
              "tensor([ 0.3460, -1.1136,  3.4665], dtype=torch.float64,\n",
              "       grad_fn=<AddBackward0>)"
            ]
          },
          "metadata": {},
          "execution_count": 55
        }
      ]
    },
    {
      "cell_type": "code",
      "metadata": {
        "id": "DyYiZBzUL5lk"
      },
      "source": [
        "optim = torch.optim.SGD([*layer1.parameters(), *layer2.parameters(), *layer3.parameters()], lr=0.01)"
      ],
      "execution_count": 56,
      "outputs": []
    },
    {
      "cell_type": "code",
      "metadata": {
        "colab": {
          "base_uri": "https://localhost:8080/"
        },
        "id": "iluJb-cNLuLw",
        "outputId": "462198ae-2701-463c-bb6d-b61fa3ec0838"
      },
      "source": [
        "errors = []\n",
        "for epoch in range(50):\n",
        "  for i in range(len(torch_y_train)):\n",
        "    optim.zero_grad()\n",
        "\n",
        "    output = layer3(layer2(layer1(torch_X_train[i])))\n",
        "\n",
        "    error = torch.sum((output.view(-1) - torch_y_train[i]) ** 2)\n",
        "    error.backward()\n",
        "\n",
        "    errors.append(error)\n",
        "    if i % 50 == 0:\n",
        "      print(error)\n",
        "    optim.step()"
      ],
      "execution_count": 57,
      "outputs": [
        {
          "output_type": "stream",
          "name": "stdout",
          "text": [
            "tensor(3.7052, dtype=torch.float64, grad_fn=<SumBackward0>)\n",
            "tensor(0.0420, dtype=torch.float64, grad_fn=<SumBackward0>)\n",
            "tensor(0.0240, dtype=torch.float64, grad_fn=<SumBackward0>)\n",
            "tensor(0.0190, dtype=torch.float64, grad_fn=<SumBackward0>)\n",
            "tensor(0.0569, dtype=torch.float64, grad_fn=<SumBackward0>)\n",
            "tensor(0.0221, dtype=torch.float64, grad_fn=<SumBackward0>)\n",
            "tensor(0.0771, dtype=torch.float64, grad_fn=<SumBackward0>)\n",
            "tensor(0.0234, dtype=torch.float64, grad_fn=<SumBackward0>)\n",
            "tensor(0.0865, dtype=torch.float64, grad_fn=<SumBackward0>)\n",
            "tensor(0.0238, dtype=torch.float64, grad_fn=<SumBackward0>)\n",
            "tensor(0.0900, dtype=torch.float64, grad_fn=<SumBackward0>)\n",
            "tensor(0.0238, dtype=torch.float64, grad_fn=<SumBackward0>)\n",
            "tensor(0.0909, dtype=torch.float64, grad_fn=<SumBackward0>)\n",
            "tensor(0.0235, dtype=torch.float64, grad_fn=<SumBackward0>)\n",
            "tensor(0.0909, dtype=torch.float64, grad_fn=<SumBackward0>)\n",
            "tensor(0.0231, dtype=torch.float64, grad_fn=<SumBackward0>)\n",
            "tensor(0.0905, dtype=torch.float64, grad_fn=<SumBackward0>)\n",
            "tensor(0.0227, dtype=torch.float64, grad_fn=<SumBackward0>)\n",
            "tensor(0.0900, dtype=torch.float64, grad_fn=<SumBackward0>)\n",
            "tensor(0.0222, dtype=torch.float64, grad_fn=<SumBackward0>)\n",
            "tensor(0.0896, dtype=torch.float64, grad_fn=<SumBackward0>)\n",
            "tensor(0.0217, dtype=torch.float64, grad_fn=<SumBackward0>)\n",
            "tensor(0.0892, dtype=torch.float64, grad_fn=<SumBackward0>)\n",
            "tensor(0.0212, dtype=torch.float64, grad_fn=<SumBackward0>)\n",
            "tensor(0.0890, dtype=torch.float64, grad_fn=<SumBackward0>)\n",
            "tensor(0.0206, dtype=torch.float64, grad_fn=<SumBackward0>)\n",
            "tensor(0.0887, dtype=torch.float64, grad_fn=<SumBackward0>)\n",
            "tensor(0.0201, dtype=torch.float64, grad_fn=<SumBackward0>)\n",
            "tensor(0.0886, dtype=torch.float64, grad_fn=<SumBackward0>)\n",
            "tensor(0.0195, dtype=torch.float64, grad_fn=<SumBackward0>)\n",
            "tensor(0.0883, dtype=torch.float64, grad_fn=<SumBackward0>)\n",
            "tensor(0.0190, dtype=torch.float64, grad_fn=<SumBackward0>)\n",
            "tensor(0.0881, dtype=torch.float64, grad_fn=<SumBackward0>)\n",
            "tensor(0.0184, dtype=torch.float64, grad_fn=<SumBackward0>)\n",
            "tensor(0.0877, dtype=torch.float64, grad_fn=<SumBackward0>)\n",
            "tensor(0.0178, dtype=torch.float64, grad_fn=<SumBackward0>)\n",
            "tensor(0.0873, dtype=torch.float64, grad_fn=<SumBackward0>)\n",
            "tensor(0.0171, dtype=torch.float64, grad_fn=<SumBackward0>)\n",
            "tensor(0.0867, dtype=torch.float64, grad_fn=<SumBackward0>)\n",
            "tensor(0.0165, dtype=torch.float64, grad_fn=<SumBackward0>)\n",
            "tensor(0.0861, dtype=torch.float64, grad_fn=<SumBackward0>)\n",
            "tensor(0.0159, dtype=torch.float64, grad_fn=<SumBackward0>)\n",
            "tensor(0.0853, dtype=torch.float64, grad_fn=<SumBackward0>)\n",
            "tensor(0.0153, dtype=torch.float64, grad_fn=<SumBackward0>)\n",
            "tensor(0.0845, dtype=torch.float64, grad_fn=<SumBackward0>)\n",
            "tensor(0.0147, dtype=torch.float64, grad_fn=<SumBackward0>)\n",
            "tensor(0.0836, dtype=torch.float64, grad_fn=<SumBackward0>)\n",
            "tensor(0.0142, dtype=torch.float64, grad_fn=<SumBackward0>)\n",
            "tensor(0.0826, dtype=torch.float64, grad_fn=<SumBackward0>)\n",
            "tensor(0.0137, dtype=torch.float64, grad_fn=<SumBackward0>)\n",
            "tensor(0.0817, dtype=torch.float64, grad_fn=<SumBackward0>)\n",
            "tensor(0.0132, dtype=torch.float64, grad_fn=<SumBackward0>)\n",
            "tensor(0.0808, dtype=torch.float64, grad_fn=<SumBackward0>)\n",
            "tensor(0.0127, dtype=torch.float64, grad_fn=<SumBackward0>)\n",
            "tensor(0.0799, dtype=torch.float64, grad_fn=<SumBackward0>)\n",
            "tensor(0.0123, dtype=torch.float64, grad_fn=<SumBackward0>)\n",
            "tensor(0.0791, dtype=torch.float64, grad_fn=<SumBackward0>)\n",
            "tensor(0.0120, dtype=torch.float64, grad_fn=<SumBackward0>)\n",
            "tensor(0.0783, dtype=torch.float64, grad_fn=<SumBackward0>)\n",
            "tensor(0.0116, dtype=torch.float64, grad_fn=<SumBackward0>)\n",
            "tensor(0.0776, dtype=torch.float64, grad_fn=<SumBackward0>)\n",
            "tensor(0.0113, dtype=torch.float64, grad_fn=<SumBackward0>)\n",
            "tensor(0.0769, dtype=torch.float64, grad_fn=<SumBackward0>)\n",
            "tensor(0.0110, dtype=torch.float64, grad_fn=<SumBackward0>)\n",
            "tensor(0.0763, dtype=torch.float64, grad_fn=<SumBackward0>)\n",
            "tensor(0.0108, dtype=torch.float64, grad_fn=<SumBackward0>)\n",
            "tensor(0.0758, dtype=torch.float64, grad_fn=<SumBackward0>)\n",
            "tensor(0.0106, dtype=torch.float64, grad_fn=<SumBackward0>)\n",
            "tensor(0.0753, dtype=torch.float64, grad_fn=<SumBackward0>)\n",
            "tensor(0.0103, dtype=torch.float64, grad_fn=<SumBackward0>)\n",
            "tensor(0.0749, dtype=torch.float64, grad_fn=<SumBackward0>)\n",
            "tensor(0.0101, dtype=torch.float64, grad_fn=<SumBackward0>)\n",
            "tensor(0.0745, dtype=torch.float64, grad_fn=<SumBackward0>)\n",
            "tensor(0.0100, dtype=torch.float64, grad_fn=<SumBackward0>)\n",
            "tensor(0.0742, dtype=torch.float64, grad_fn=<SumBackward0>)\n",
            "tensor(0.0098, dtype=torch.float64, grad_fn=<SumBackward0>)\n",
            "tensor(0.0739, dtype=torch.float64, grad_fn=<SumBackward0>)\n",
            "tensor(0.0096, dtype=torch.float64, grad_fn=<SumBackward0>)\n",
            "tensor(0.0737, dtype=torch.float64, grad_fn=<SumBackward0>)\n",
            "tensor(0.0095, dtype=torch.float64, grad_fn=<SumBackward0>)\n",
            "tensor(0.0735, dtype=torch.float64, grad_fn=<SumBackward0>)\n",
            "tensor(0.0093, dtype=torch.float64, grad_fn=<SumBackward0>)\n",
            "tensor(0.0733, dtype=torch.float64, grad_fn=<SumBackward0>)\n",
            "tensor(0.0092, dtype=torch.float64, grad_fn=<SumBackward0>)\n",
            "tensor(0.0732, dtype=torch.float64, grad_fn=<SumBackward0>)\n",
            "tensor(0.0091, dtype=torch.float64, grad_fn=<SumBackward0>)\n",
            "tensor(0.0731, dtype=torch.float64, grad_fn=<SumBackward0>)\n",
            "tensor(0.0090, dtype=torch.float64, grad_fn=<SumBackward0>)\n",
            "tensor(0.0730, dtype=torch.float64, grad_fn=<SumBackward0>)\n",
            "tensor(0.0089, dtype=torch.float64, grad_fn=<SumBackward0>)\n",
            "tensor(0.0729, dtype=torch.float64, grad_fn=<SumBackward0>)\n",
            "tensor(0.0087, dtype=torch.float64, grad_fn=<SumBackward0>)\n",
            "tensor(0.0729, dtype=torch.float64, grad_fn=<SumBackward0>)\n",
            "tensor(0.0086, dtype=torch.float64, grad_fn=<SumBackward0>)\n",
            "tensor(0.0729, dtype=torch.float64, grad_fn=<SumBackward0>)\n",
            "tensor(0.0085, dtype=torch.float64, grad_fn=<SumBackward0>)\n",
            "tensor(0.0729, dtype=torch.float64, grad_fn=<SumBackward0>)\n",
            "tensor(0.0085, dtype=torch.float64, grad_fn=<SumBackward0>)\n",
            "tensor(0.0729, dtype=torch.float64, grad_fn=<SumBackward0>)\n",
            "tensor(0.0084, dtype=torch.float64, grad_fn=<SumBackward0>)\n"
          ]
        }
      ]
    },
    {
      "cell_type": "code",
      "metadata": {
        "colab": {
          "base_uri": "https://localhost:8080/",
          "height": 281
        },
        "id": "slnRv_1CQgdj",
        "outputId": "e997685e-5a30-4dce-cf44-d79456790483"
      },
      "source": [
        "plt.title('Prediction error')\n",
        "plt.plot(avg_error(errors))\n",
        "plt.show()"
      ],
      "execution_count": 58,
      "outputs": [
        {
          "output_type": "display_data",
          "data": {
            "image/png": "[encoded data removed]",
            "text/plain": [
              "<Figure size 432x288 with 1 Axes>"
            ]
          },
          "metadata": {
            "needs_background": "light"
          }
        }
      ]
    },
    {
      "cell_type": "code",
      "metadata": {
        "id": "lPEVLFMhMIFf",
        "colab": {
          "base_uri": "https://localhost:8080/"
        },
        "outputId": "92a8cb46-77da-4767-93b9-23bdc6bdaa98"
      },
      "source": [
        "prediction = torch.sigmoid(layer3(torch.sigmoid(layer2(torch.sigmoid(layer1(torch.tensor(X_test[5])))))))\n",
        "expected = y_test[5]\n",
        "\n",
        "print(prediction)\n",
        "print(f'Predicted: {torch.argmax(prediction)}, Expected: {expected}')"
      ],
      "execution_count": 59,
      "outputs": [
        {
          "output_type": "stream",
          "name": "stdout",
          "text": [
            "tensor([0.4840, 0.5825, 0.4821], dtype=torch.float64,\n",
            "       grad_fn=<SigmoidBackward>)\n",
            "Predicted: 1, Expected: 2\n"
          ]
        }
      ]
    },
    {
      "cell_type": "markdown",
      "metadata": {
        "id": "YniHI7nOZAh3"
      },
      "source": [
        "As we can see neither of the manually created NNs using `pytorch` are giving satisfying results to our test data. Whereas the single layer NN gives bad to unuseful results, the multi layer NN has tendencies to reduce it's error, yet the fluctuation in said error is too unstable.\n",
        "\n",
        "One thing we could do is adding *activation* functions to each layer. For now all we do is\n",
        "$$\n",
        "L(X) = L_3(L_2(L_1(X)))\n",
        "$$\n",
        "which is actually equal to\n",
        "$$\n",
        "L(X) = P(X),\\\\\n",
        "\\text{where}\\, P = L_3 \\cdot L_2 \\cdot L_1\n",
        "$$\n",
        "As you can see instead of actually adjusting $\\beta$ values along the way, we  perform a single matrix-vector multiplication, which means under the hood we do in both cases the same thing.  \n",
        "So instead of doing all that fancy 3 layer stuff. Let's use two layers, and connect them with an activation function.\n",
        "\n",
        "Activation functions are a helpful tool to add complexity to the function the algorithm is learning. By adding complexity we can solve the problem of overfitting. But we will come back later in detail about these magic **activation functions**.\n",
        "\n",
        "For now we just see them as a tool to add complexity, which might improve the quality of predictions in our NN.\n",
        "\n",
        "One of these functions is sigmoid\n",
        "$$\n",
        "\\sigma(x) = \\frac{1}{1+\\exp(-x)}\n",
        "$$"
      ]
    },
    {
      "cell_type": "code",
      "metadata": {
        "colab": {
          "base_uri": "https://localhost:8080/",
          "height": 281
        },
        "id": "dsnPsKT8QzPU",
        "outputId": "cdb0fe95-bd40-43d4-d62f-a78e0168e5a5"
      },
      "source": [
        "import matplotlib.pyplot as plt\n",
        "\n",
        "sigmoid = lambda x: 1.0/(1+np.exp(-x))\n",
        "\n",
        "x = np.linspace(-10, 10, 1000)\n",
        "\n",
        "plt.title('Sigmoid')\n",
        "plt.plot(x, sigmoid(x))\n",
        "plt.show()"
      ],
      "execution_count": 60,
      "outputs": [
        {
          "output_type": "display_data",
          "data": {
            "image/png": "[encoded data removed]",
            "text/plain": [
              "<Figure size 432x288 with 1 Axes>"
            ]
          },
          "metadata": {
            "needs_background": "light"
          }
        }
      ]
    },
    {
      "cell_type": "markdown",
      "metadata": {
        "id": "feTZoIXFcR6S"
      },
      "source": [
        "This nifty function maps it's input into a range of $[0, 1]$.\n",
        "\n",
        "Applied to our NN:"
      ]
    },
    {
      "cell_type": "code",
      "metadata": {
        "id": "3nNcYZgiFGYj"
      },
      "source": [
        "layer1_out = 18\n",
        "layer2_out = 8\n",
        "final_out = 3\n",
        "\n",
        "layer1 = torch.nn.Linear(X_train.shape[1], layer1_out, dtype=float)\n",
        "layer2 = torch.nn.Linear(layer1_out, layer2_out, dtype=float)\n",
        "layer3 = torch.nn.Linear(layer2_out, final_out, dtype=float)\n",
        "layer3(layer2(layer1(torch.tensor(X_test[5], dtype=float))))\n",
        "optim = torch.optim.SGD([*layer1.parameters(), *layer2.parameters(), *layer3.parameters()], lr=0.1)"
      ],
      "execution_count": 61,
      "outputs": []
    },
    {
      "cell_type": "code",
      "metadata": {
        "colab": {
          "base_uri": "https://localhost:8080/"
        },
        "id": "JeDuVwT6cdFf",
        "outputId": "9cf523df-fdb3-4711-9061-834390456dd9"
      },
      "source": [
        "errors = []\n",
        "for epoch in range(50):\n",
        "  for i in range(len(torch_y_train)):\n",
        "    optim.zero_grad()\n",
        "\n",
        "    o1 = torch.sigmoid(layer1(torch_X_train[i]))\n",
        "    o2 = torch.sigmoid(layer2(o1))\n",
        "    output = torch.sigmoid(layer3(o2))\n",
        "\n",
        "    error = torch.sum((output.view(-1) - torch_y_train[i]) ** 2)\n",
        "    error.backward()\n",
        "\n",
        "    errors.append(error)\n",
        "    if i % 50 == 0:\n",
        "      print(error)\n",
        "    optim.step()"
      ],
      "execution_count": 62,
      "outputs": [
        {
          "output_type": "stream",
          "name": "stdout",
          "text": [
            "tensor(0.8613, dtype=torch.float64, grad_fn=<SumBackward0>)\n",
            "tensor(0.5085, dtype=torch.float64, grad_fn=<SumBackward0>)\n",
            "tensor(0.6150, dtype=torch.float64, grad_fn=<SumBackward0>)\n",
            "tensor(0.4827, dtype=torch.float64, grad_fn=<SumBackward0>)\n",
            "tensor(0.5929, dtype=torch.float64, grad_fn=<SumBackward0>)\n",
            "tensor(0.4773, dtype=torch.float64, grad_fn=<SumBackward0>)\n",
            "tensor(0.5844, dtype=torch.float64, grad_fn=<SumBackward0>)\n",
            "tensor(0.4724, dtype=torch.float64, grad_fn=<SumBackward0>)\n",
            "tensor(0.5761, dtype=torch.float64, grad_fn=<SumBackward0>)\n",
            "tensor(0.4645, dtype=torch.float64, grad_fn=<SumBackward0>)\n",
            "tensor(0.5648, dtype=torch.float64, grad_fn=<SumBackward0>)\n",
            "tensor(0.4504, dtype=torch.float64, grad_fn=<SumBackward0>)\n",
            "tensor(0.5469, dtype=torch.float64, grad_fn=<SumBackward0>)\n",
            "tensor(0.4253, dtype=torch.float64, grad_fn=<SumBackward0>)\n",
            "tensor(0.5161, dtype=torch.float64, grad_fn=<SumBackward0>)\n",
            "tensor(0.3811, dtype=torch.float64, grad_fn=<SumBackward0>)\n",
            "tensor(0.4591, dtype=torch.float64, grad_fn=<SumBackward0>)\n",
            "tensor(0.3113, dtype=torch.float64, grad_fn=<SumBackward0>)\n",
            "tensor(0.3664, dtype=torch.float64, grad_fn=<SumBackward0>)\n",
            "tensor(0.2253, dtype=torch.float64, grad_fn=<SumBackward0>)\n",
            "tensor(0.2596, dtype=torch.float64, grad_fn=<SumBackward0>)\n",
            "tensor(0.1488, dtype=torch.float64, grad_fn=<SumBackward0>)\n",
            "tensor(0.1762, dtype=torch.float64, grad_fn=<SumBackward0>)\n",
            "tensor(0.0988, dtype=torch.float64, grad_fn=<SumBackward0>)\n",
            "tensor(0.1245, dtype=torch.float64, grad_fn=<SumBackward0>)\n",
            "tensor(0.0703, dtype=torch.float64, grad_fn=<SumBackward0>)\n",
            "tensor(0.0945, dtype=torch.float64, grad_fn=<SumBackward0>)\n",
            "tensor(0.0542, dtype=torch.float64, grad_fn=<SumBackward0>)\n",
            "tensor(0.0771, dtype=torch.float64, grad_fn=<SumBackward0>)\n",
            "tensor(0.0447, dtype=torch.float64, grad_fn=<SumBackward0>)\n",
            "tensor(0.0668, dtype=torch.float64, grad_fn=<SumBackward0>)\n",
            "tensor(0.0390, dtype=torch.float64, grad_fn=<SumBackward0>)\n",
            "tensor(0.0606, dtype=torch.float64, grad_fn=<SumBackward0>)\n",
            "tensor(0.0356, dtype=torch.float64, grad_fn=<SumBackward0>)\n",
            "tensor(0.0571, dtype=torch.float64, grad_fn=<SumBackward0>)\n",
            "tensor(0.0335, dtype=torch.float64, grad_fn=<SumBackward0>)\n",
            "tensor(0.0552, dtype=torch.float64, grad_fn=<SumBackward0>)\n",
            "tensor(0.0323, dtype=torch.float64, grad_fn=<SumBackward0>)\n",
            "tensor(0.0544, dtype=torch.float64, grad_fn=<SumBackward0>)\n",
            "tensor(0.0316, dtype=torch.float64, grad_fn=<SumBackward0>)\n",
            "tensor(0.0542, dtype=torch.float64, grad_fn=<SumBackward0>)\n",
            "tensor(0.0313, dtype=torch.float64, grad_fn=<SumBackward0>)\n",
            "tensor(0.0545, dtype=torch.float64, grad_fn=<SumBackward0>)\n",
            "tensor(0.0312, dtype=torch.float64, grad_fn=<SumBackward0>)\n",
            "tensor(0.0550, dtype=torch.float64, grad_fn=<SumBackward0>)\n",
            "tensor(0.0312, dtype=torch.float64, grad_fn=<SumBackward0>)\n",
            "tensor(0.0558, dtype=torch.float64, grad_fn=<SumBackward0>)\n",
            "tensor(0.0313, dtype=torch.float64, grad_fn=<SumBackward0>)\n",
            "tensor(0.0566, dtype=torch.float64, grad_fn=<SumBackward0>)\n",
            "tensor(0.0314, dtype=torch.float64, grad_fn=<SumBackward0>)\n",
            "tensor(0.0575, dtype=torch.float64, grad_fn=<SumBackward0>)\n",
            "tensor(0.0316, dtype=torch.float64, grad_fn=<SumBackward0>)\n",
            "tensor(0.0585, dtype=torch.float64, grad_fn=<SumBackward0>)\n",
            "tensor(0.0317, dtype=torch.float64, grad_fn=<SumBackward0>)\n",
            "tensor(0.0595, dtype=torch.float64, grad_fn=<SumBackward0>)\n",
            "tensor(0.0319, dtype=torch.float64, grad_fn=<SumBackward0>)\n",
            "tensor(0.0606, dtype=torch.float64, grad_fn=<SumBackward0>)\n",
            "tensor(0.0321, dtype=torch.float64, grad_fn=<SumBackward0>)\n",
            "tensor(0.0616, dtype=torch.float64, grad_fn=<SumBackward0>)\n",
            "tensor(0.0322, dtype=torch.float64, grad_fn=<SumBackward0>)\n",
            "tensor(0.0626, dtype=torch.float64, grad_fn=<SumBackward0>)\n",
            "tensor(0.0323, dtype=torch.float64, grad_fn=<SumBackward0>)\n",
            "tensor(0.0635, dtype=torch.float64, grad_fn=<SumBackward0>)\n",
            "tensor(0.0324, dtype=torch.float64, grad_fn=<SumBackward0>)\n",
            "tensor(0.0640, dtype=torch.float64, grad_fn=<SumBackward0>)\n",
            "tensor(0.0324, dtype=torch.float64, grad_fn=<SumBackward0>)\n",
            "tensor(0.0642, dtype=torch.float64, grad_fn=<SumBackward0>)\n",
            "tensor(0.0324, dtype=torch.float64, grad_fn=<SumBackward0>)\n",
            "tensor(0.0638, dtype=torch.float64, grad_fn=<SumBackward0>)\n",
            "tensor(0.0322, dtype=torch.float64, grad_fn=<SumBackward0>)\n",
            "tensor(0.0628, dtype=torch.float64, grad_fn=<SumBackward0>)\n",
            "tensor(0.0319, dtype=torch.float64, grad_fn=<SumBackward0>)\n",
            "tensor(0.0611, dtype=torch.float64, grad_fn=<SumBackward0>)\n",
            "tensor(0.0314, dtype=torch.float64, grad_fn=<SumBackward0>)\n",
            "tensor(0.0588, dtype=torch.float64, grad_fn=<SumBackward0>)\n",
            "tensor(0.0307, dtype=torch.float64, grad_fn=<SumBackward0>)\n",
            "tensor(0.0560, dtype=torch.float64, grad_fn=<SumBackward0>)\n",
            "tensor(0.0298, dtype=torch.float64, grad_fn=<SumBackward0>)\n",
            "tensor(0.0529, dtype=torch.float64, grad_fn=<SumBackward0>)\n",
            "tensor(0.0286, dtype=torch.float64, grad_fn=<SumBackward0>)\n",
            "tensor(0.0495, dtype=torch.float64, grad_fn=<SumBackward0>)\n",
            "tensor(0.0273, dtype=torch.float64, grad_fn=<SumBackward0>)\n",
            "tensor(0.0461, dtype=torch.float64, grad_fn=<SumBackward0>)\n",
            "tensor(0.0259, dtype=torch.float64, grad_fn=<SumBackward0>)\n",
            "tensor(0.0428, dtype=torch.float64, grad_fn=<SumBackward0>)\n",
            "tensor(0.0244, dtype=torch.float64, grad_fn=<SumBackward0>)\n",
            "tensor(0.0395, dtype=torch.float64, grad_fn=<SumBackward0>)\n",
            "tensor(0.0228, dtype=torch.float64, grad_fn=<SumBackward0>)\n",
            "tensor(0.0364, dtype=torch.float64, grad_fn=<SumBackward0>)\n",
            "tensor(0.0213, dtype=torch.float64, grad_fn=<SumBackward0>)\n",
            "tensor(0.0335, dtype=torch.float64, grad_fn=<SumBackward0>)\n",
            "tensor(0.0199, dtype=torch.float64, grad_fn=<SumBackward0>)\n",
            "tensor(0.0308, dtype=torch.float64, grad_fn=<SumBackward0>)\n",
            "tensor(0.0185, dtype=torch.float64, grad_fn=<SumBackward0>)\n",
            "tensor(0.0283, dtype=torch.float64, grad_fn=<SumBackward0>)\n",
            "tensor(0.0172, dtype=torch.float64, grad_fn=<SumBackward0>)\n",
            "tensor(0.0260, dtype=torch.float64, grad_fn=<SumBackward0>)\n",
            "tensor(0.0161, dtype=torch.float64, grad_fn=<SumBackward0>)\n",
            "tensor(0.0240, dtype=torch.float64, grad_fn=<SumBackward0>)\n",
            "tensor(0.0151, dtype=torch.float64, grad_fn=<SumBackward0>)\n"
          ]
        }
      ]
    },
    {
      "cell_type": "code",
      "metadata": {
        "colab": {
          "base_uri": "https://localhost:8080/"
        },
        "id": "s3W3tAf9dNU2",
        "outputId": "3768b492-844d-4e9c-a37d-403e492403d8"
      },
      "source": [
        "prediction = torch.sigmoid(layer3(torch.sigmoid(layer2(torch.sigmoid(layer1(torch.tensor(X_test[5])))))))\n",
        "expected = y_test[5]\n",
        "\n",
        "print(f'Predicted: {torch.argmax(prediction)}, Expected: {expected}')"
      ],
      "execution_count": 63,
      "outputs": [
        {
          "output_type": "stream",
          "name": "stdout",
          "text": [
            "Predicted: 2, Expected: 2\n"
          ]
        }
      ]
    },
    {
      "cell_type": "code",
      "metadata": {
        "colab": {
          "base_uri": "https://localhost:8080/",
          "height": 281
        },
        "id": "7Fqk2DrEQyhp",
        "outputId": "1dad74c9-e525-40ef-c24b-c5d0f0683e60"
      },
      "source": [
        "plt.title('Prediction error')\n",
        "plt.plot(avg_error(errors))\n",
        "plt.show()"
      ],
      "execution_count": 64,
      "outputs": [
        {
          "output_type": "display_data",
          "data": {
            "image/png": "[encoded data removed]",
            "text/plain": [
              "<Figure size 432x288 with 1 Axes>"
            ]
          },
          "metadata": {
            "needs_background": "light"
          }
        }
      ]
    },
    {
      "cell_type": "markdown",
      "metadata": {
        "id": "fUKixLRkdM9_"
      },
      "source": [
        "So as you can see adding this magical activation function helps to stabalize the prediction error and improve the quality of prediction by magnitudes.\n",
        "\n",
        "Alright, that covers the eager learners, since all of the above algorithms train a model in advance to generalize the training data und use these models to make predictions.\n",
        "\n",
        "## k-Nearest Neighbor (KNN)\n",
        "KNN is a lazy learning algorithm which stores all instances correspond to training data points in an $n$-dim space.  \n",
        "Calculates for unknown\n",
        "- discrete data the closest $k$ number of nearest neighbors\n",
        "- real-valued data the mean of $k$ nearest neighbors\n",
        "\n",
        "KNN is usually robust to noisy data, since it's averaging the $k$-nearest neighbors.\n",
        "\n",
        "### Code\n"
      ]
    },
    {
      "cell_type": "code",
      "metadata": {
        "colab": {
          "base_uri": "https://localhost:8080/"
        },
        "id": "5effyFZdfEEv",
        "outputId": "b9c993b3-5e33-456c-e367-ab2a996eed89"
      },
      "source": [
        "import numpy as np\n",
        "import matplotlib.pyplot as plt\n",
        "import seaborn\n",
        "from matplotlib.colors import ListedColormap\n",
        "from sklearn import neighbors, datasets\n",
        "\n",
        "\n",
        "n_neighors = 10\n",
        "\n",
        "iris = datasets.load_iris()\n",
        "\n",
        "X = iris.data\n",
        "y = iris.target\n",
        "\n",
        "uniform_clf = neighbors.KNeighborsClassifier(n_neighors, weights=\"uniform\")\n",
        "uniform_clf.fit(X_train, y_train)\n",
        "\n",
        "uniform_pred = uniform_clf.predict([X_test[5]])\n",
        "\n",
        "distance_clf = neighbors.KNeighborsClassifier(n_neighors, weights=\"distance\")\n",
        "distance_clf.fit(X_train, y_train)\n",
        "\n",
        "distance_pred = distance_clf.predict([X_test[5]])\n",
        "\n",
        "print(uniform_pred)\n",
        "print(distance_pred)\n",
        "print(y_test[5])\n"
      ],
      "execution_count": 65,
      "outputs": [
        {
          "output_type": "stream",
          "name": "stdout",
          "text": [
            "[[0. 0. 1.]]\n",
            "[[0. 0. 1.]]\n",
            "2\n"
          ]
        }
      ]
    },
    {
      "cell_type": "markdown",
      "metadata": {
        "id": "DZfLKu_-oAcE"
      },
      "source": [
        "# Evaluation\n",
        "After training an algorithm it needs to be evaluated to verify its applicability.\n",
        "We've seen in previous sections things like Precision and Recall, but will now briefly verbalize some of the concepts of evaluation techniques.\n",
        "\n",
        "### Holdout method\n",
        "We split the data in the training set into 2 partitisions as test (20%) and train (80%). The train set is used to train the model and the test data set will be used to test its predictive power, as seen in the NN examples.\n",
        "\n",
        "### Cross-validation\n",
        "Overfitting is a common problem and can occure in most models. **k-fold cross-validation** can be conducted to verify over-fitting in a model. In this method the data will be randomly partitioned into $k$ mutually exclusive subsets, each approximately equal size and one is kept for testing while others are used for training. This process is iterated throught the whole $k$ folds.\n",
        "\n",
        "So in other words, we grab a fraction of the training set, use it for testing and then batch the remaining set into batches of the same size as our test set, then apply different batches while testing against the same test set.\n",
        "\n",
        "#### Cross-Valdation application\n",
        "\n"
      ]
    },
    {
      "cell_type": "code",
      "metadata": {
        "id": "qqeUzK0d_IhA"
      },
      "source": [
        "# data preparation\n",
        "import random\n",
        "from sklearn.datasets import load_iris\n",
        "from sklearn.model_selection import train_test_split\n",
        "\n",
        "batch_size = 5\n",
        "all_X, all_y = load_iris(return_X_y=True)\n",
        "\n",
        "foo = list(range(all_y.shape[0]))\n",
        "random.shuffle(foo)\n",
        "\n",
        "test_i = foo[:batch_size]\n",
        "X_test = all_X[test_i, :]\n",
        "y_test = all_y[test_i]\n",
        "\n",
        "X_train = all_X[foo[batch_size:], :]\n",
        "y_train = all_y[foo[batch_size:]]\n",
        "\n",
        "\n",
        "# transform y_train into N-dim vector containing probabilities for class N\n",
        "transformed_y_train = []\n",
        "for elem in y_train:\n",
        "  vec = [0,0,0]\n",
        "  vec[elem] = 1.0\n",
        "  transformed_y_train.append(vec)\n",
        "\n",
        "X_train = X_train\n",
        "y_train = transformed_y_train\n",
        "\n",
        "# build batches\n",
        "\n",
        "batches = []\n",
        "for b in range(int(len(y_train)/batch_size)):\n",
        "  batch = (X_train[batch_size * (b):batch_size * (b + 1), :], y_train[batch_size * (b):batch_size * (b + 1)])\n",
        "  batches.append(batch)\n"
      ],
      "execution_count": 66,
      "outputs": []
    },
    {
      "cell_type": "markdown",
      "metadata": {
        "id": "iSWk_zMgJRFD"
      },
      "source": [
        "Single Layer NN"
      ]
    },
    {
      "cell_type": "code",
      "metadata": {
        "colab": {
          "base_uri": "https://localhost:8080/"
        },
        "id": "wH8FPdG8I904",
        "outputId": "8c0c9880-7da3-42fe-d351-283671297957"
      },
      "source": [
        "layer1 = torch.nn.Linear(X_train.shape[1], 3, dtype=float)\n",
        "optim = torch.optim.SGD([*layer1.parameters()], lr=0.1)\n",
        "errors = []\n",
        "\n",
        "for epoch in range(50):\n",
        "  for batch in batches:\n",
        "    optim.zero_grad()\n",
        "    X = torch.tensor(batch[0])\n",
        "    y = torch.tensor(batch[1])\n",
        "\n",
        "    output = torch.sigmoid(layer1(X))\n",
        "\n",
        "    error = torch.sum((output - y) ** 2)\n",
        "    error.backward()\n",
        "\n",
        "    errors.append(error)\n",
        "    if epoch % 50 == 0:\n",
        "      print(error)\n",
        "    optim.step()"
      ],
      "execution_count": 67,
      "outputs": [
        {
          "output_type": "stream",
          "name": "stdout",
          "text": [
            "tensor(5.3838, dtype=torch.float64, grad_fn=<SumBackward0>)\n",
            "tensor(4.6466, dtype=torch.float64, grad_fn=<SumBackward0>)\n",
            "tensor(3.9660, dtype=torch.float64, grad_fn=<SumBackward0>)\n",
            "tensor(6.9712, dtype=torch.float64, grad_fn=<SumBackward0>)\n",
            "tensor(5.2438, dtype=torch.float64, grad_fn=<SumBackward0>)\n",
            "tensor(5.1345, dtype=torch.float64, grad_fn=<SumBackward0>)\n",
            "tensor(4.8884, dtype=torch.float64, grad_fn=<SumBackward0>)\n",
            "tensor(4.9592, dtype=torch.float64, grad_fn=<SumBackward0>)\n",
            "tensor(4.7674, dtype=torch.float64, grad_fn=<SumBackward0>)\n",
            "tensor(4.5617, dtype=torch.float64, grad_fn=<SumBackward0>)\n",
            "tensor(4.4110, dtype=torch.float64, grad_fn=<SumBackward0>)\n",
            "tensor(3.4309, dtype=torch.float64, grad_fn=<SumBackward0>)\n",
            "tensor(5.2481, dtype=torch.float64, grad_fn=<SumBackward0>)\n",
            "tensor(5.1291, dtype=torch.float64, grad_fn=<SumBackward0>)\n",
            "tensor(4.0447, dtype=torch.float64, grad_fn=<SumBackward0>)\n",
            "tensor(2.1764, dtype=torch.float64, grad_fn=<SumBackward0>)\n",
            "tensor(3.5111, dtype=torch.float64, grad_fn=<SumBackward0>)\n",
            "tensor(4.3837, dtype=torch.float64, grad_fn=<SumBackward0>)\n",
            "tensor(3.9906, dtype=torch.float64, grad_fn=<SumBackward0>)\n",
            "tensor(1.4257, dtype=torch.float64, grad_fn=<SumBackward0>)\n",
            "tensor(4.9943, dtype=torch.float64, grad_fn=<SumBackward0>)\n",
            "tensor(4.0824, dtype=torch.float64, grad_fn=<SumBackward0>)\n",
            "tensor(3.8090, dtype=torch.float64, grad_fn=<SumBackward0>)\n",
            "tensor(2.4616, dtype=torch.float64, grad_fn=<SumBackward0>)\n",
            "tensor(4.0089, dtype=torch.float64, grad_fn=<SumBackward0>)\n",
            "tensor(3.0535, dtype=torch.float64, grad_fn=<SumBackward0>)\n",
            "tensor(1.0260, dtype=torch.float64, grad_fn=<SumBackward0>)\n",
            "tensor(3.8036, dtype=torch.float64, grad_fn=<SumBackward0>)\n",
            "tensor(3.2371, dtype=torch.float64, grad_fn=<SumBackward0>)\n"
          ]
        }
      ]
    },
    {
      "cell_type": "code",
      "metadata": {
        "colab": {
          "base_uri": "https://localhost:8080/"
        },
        "id": "e4lDjaplJH4g",
        "outputId": "16330870-d881-4fd1-d639-dffc60efcd56"
      },
      "source": [
        "prediction = torch.sigmoid(layer1(torch.tensor(X_test[-1])))\n",
        "expected = y_test[-1]\n",
        "print(prediction)\n",
        "\n",
        "print(f'Predicted: {prediction.argmax()}, Expected: {expected}')"
      ],
      "execution_count": 68,
      "outputs": [
        {
          "output_type": "stream",
          "name": "stdout",
          "text": [
            "tensor([0.0018, 0.7395, 0.3066], dtype=torch.float64,\n",
            "       grad_fn=<SigmoidBackward>)\n",
            "Predicted: 1, Expected: 1\n"
          ]
        }
      ]
    },
    {
      "cell_type": "code",
      "metadata": {
        "colab": {
          "base_uri": "https://localhost:8080/",
          "height": 281
        },
        "id": "Y7xlyHiENTcg",
        "outputId": "4840ace3-e015-4a6b-bf62-b73b43d81d1e"
      },
      "source": [
        "plt.title('Prediction error')\n",
        "plt.plot(avg_error(errors))\n",
        "plt.show()"
      ],
      "execution_count": 69,
      "outputs": [
        {
          "output_type": "display_data",
          "data": {
            "image/png": "[encoded data removed]",
            "text/plain": [
              "<Figure size 432x288 with 1 Axes>"
            ]
          },
          "metadata": {
            "needs_background": "light"
          }
        }
      ]
    },
    {
      "cell_type": "markdown",
      "metadata": {
        "id": "_hlOOl9VJXL5"
      },
      "source": [
        "Multi-layer NN"
      ]
    },
    {
      "cell_type": "code",
      "metadata": {
        "colab": {
          "base_uri": "https://localhost:8080/"
        },
        "id": "tbPnn5ob-3vc",
        "outputId": "8f1a1445-6191-48bb-c0be-fd6198f426ae"
      },
      "source": [
        "layer1_out = 18\n",
        "layer2_out = 8\n",
        "final_out = 3\n",
        "\n",
        "layer1 = torch.nn.Linear(X_train.shape[1], layer1_out, dtype=float)\n",
        "layer2 = torch.nn.Linear(layer1_out, layer2_out, dtype=float)\n",
        "layer3 = torch.nn.Linear(layer2_out, final_out, dtype=float)\n",
        "layer3(layer2(layer1(torch.tensor(X_test[-1], dtype=float))))\n",
        "optim = torch.optim.SGD([*layer1.parameters(), *layer2.parameters(), *layer3.parameters()], lr=0.1)\n",
        "\n",
        "errors = []\n",
        "\n",
        "for epoch in range(50):\n",
        "  for batch in batches:\n",
        "    optim.zero_grad()\n",
        "    X = torch.tensor(batch[0])\n",
        "    y = torch.tensor(batch[1])\n",
        "\n",
        "    o1 = torch.sigmoid(layer1(X))\n",
        "    o2 = torch.sigmoid(layer2(o1))\n",
        "    output = torch.sigmoid(layer3(o2))\n",
        "\n",
        "    error = torch.sum((output - y) ** 2)\n",
        "    error.backward()\n",
        "\n",
        "    errors.append(error)\n",
        "    if epoch % 50 == 0:\n",
        "      print(error)\n",
        "    optim.step()"
      ],
      "execution_count": 70,
      "outputs": [
        {
          "output_type": "stream",
          "name": "stdout",
          "text": [
            "tensor(4.2120, dtype=torch.float64, grad_fn=<SumBackward0>)\n",
            "tensor(3.0739, dtype=torch.float64, grad_fn=<SumBackward0>)\n",
            "tensor(3.0734, dtype=torch.float64, grad_fn=<SumBackward0>)\n",
            "tensor(4.5176, dtype=torch.float64, grad_fn=<SumBackward0>)\n",
            "tensor(3.9701, dtype=torch.float64, grad_fn=<SumBackward0>)\n",
            "tensor(3.3897, dtype=torch.float64, grad_fn=<SumBackward0>)\n",
            "tensor(3.6579, dtype=torch.float64, grad_fn=<SumBackward0>)\n",
            "tensor(3.2302, dtype=torch.float64, grad_fn=<SumBackward0>)\n",
            "tensor(4.0785, dtype=torch.float64, grad_fn=<SumBackward0>)\n",
            "tensor(3.3620, dtype=torch.float64, grad_fn=<SumBackward0>)\n",
            "tensor(3.4830, dtype=torch.float64, grad_fn=<SumBackward0>)\n",
            "tensor(3.2864, dtype=torch.float64, grad_fn=<SumBackward0>)\n",
            "tensor(3.3824, dtype=torch.float64, grad_fn=<SumBackward0>)\n",
            "tensor(3.7011, dtype=torch.float64, grad_fn=<SumBackward0>)\n",
            "tensor(3.4234, dtype=torch.float64, grad_fn=<SumBackward0>)\n",
            "tensor(3.2720, dtype=torch.float64, grad_fn=<SumBackward0>)\n",
            "tensor(3.3570, dtype=torch.float64, grad_fn=<SumBackward0>)\n",
            "tensor(3.5245, dtype=torch.float64, grad_fn=<SumBackward0>)\n",
            "tensor(3.4055, dtype=torch.float64, grad_fn=<SumBackward0>)\n",
            "tensor(3.2710, dtype=torch.float64, grad_fn=<SumBackward0>)\n",
            "tensor(3.4260, dtype=torch.float64, grad_fn=<SumBackward0>)\n",
            "tensor(3.4502, dtype=torch.float64, grad_fn=<SumBackward0>)\n",
            "tensor(3.3818, dtype=torch.float64, grad_fn=<SumBackward0>)\n",
            "tensor(3.3935, dtype=torch.float64, grad_fn=<SumBackward0>)\n",
            "tensor(3.2810, dtype=torch.float64, grad_fn=<SumBackward0>)\n",
            "tensor(3.3767, dtype=torch.float64, grad_fn=<SumBackward0>)\n",
            "tensor(3.5808, dtype=torch.float64, grad_fn=<SumBackward0>)\n",
            "tensor(3.3865, dtype=torch.float64, grad_fn=<SumBackward0>)\n",
            "tensor(3.5907, dtype=torch.float64, grad_fn=<SumBackward0>)\n"
          ]
        }
      ]
    },
    {
      "cell_type": "code",
      "metadata": {
        "colab": {
          "base_uri": "https://localhost:8080/"
        },
        "id": "0Kd2eVNyDOY_",
        "outputId": "8f13038d-b267-46f2-e554-40c8f547cf21"
      },
      "source": [
        "prediction = torch.sigmoid(layer3(torch.sigmoid(layer2(torch.sigmoid(layer1(torch.tensor(X_test[-1])))))))\n",
        "expected = y_test[-1]\n",
        "print(prediction)\n",
        "\n",
        "print(f'Predicted: {prediction.argmax()}, Expected: {expected}')"
      ],
      "execution_count": 71,
      "outputs": [
        {
          "output_type": "stream",
          "name": "stdout",
          "text": [
            "tensor([3.3304e-04, 6.7888e-02, 9.4992e-01], dtype=torch.float64,\n",
            "       grad_fn=<SigmoidBackward>)\n",
            "Predicted: 2, Expected: 1\n"
          ]
        }
      ]
    },
    {
      "cell_type": "code",
      "metadata": {
        "colab": {
          "base_uri": "https://localhost:8080/",
          "height": 281
        },
        "id": "vcn2G8Q5Ovoj",
        "outputId": "248abde6-9403-4667-8e49-8b6878613a58"
      },
      "source": [
        "plt.title('Prediction error')\n",
        "plt.plot(avg_error(errors))\n",
        "plt.show()"
      ],
      "execution_count": 72,
      "outputs": [
        {
          "output_type": "display_data",
          "data": {
            "image/png": "[encoded data removed]",
            "text/plain": [
              "<Figure size 432x288 with 1 Axes>"
            ]
          },
          "metadata": {
            "needs_background": "light"
          }
        }
      ]
    },
    {
      "cell_type": "markdown",
      "metadata": {
        "id": "0hbWRAZND6_4"
      },
      "source": [
        "As you can see using **cross-validation** can even improve results from multi-layer NNs. Whereas the regular holdout approach performs worse compared to it."
      ]
    },
    {
      "cell_type": "markdown",
      "metadata": {
        "id": "Kkt_H5wV-4dO"
      },
      "source": [
        "\n",
        "\n",
        "## [Precision and Recall](/Machine_Learning/Precision_Recall.ipynb)\n"
      ]
    }
  ]
}