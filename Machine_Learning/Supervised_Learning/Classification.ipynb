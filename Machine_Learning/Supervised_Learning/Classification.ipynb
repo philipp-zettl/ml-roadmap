{
  "nbformat": 4,
  "nbformat_minor": 0,
  "metadata": {
    "colab": {
      "name": "Classification.ipynb",
      "provenance": [],
      "collapsed_sections": []
    },
    "kernelspec": {
      "name": "python3",
      "display_name": "Python 3"
    },
    "language_info": {
      "name": "python"
    }
  },
  "cells": [
    {
      "cell_type": "markdown",
      "metadata": {
        "id": "a5Kupl_YwNei"
      },
      "source": [
        "# Classification\n",
        "\n",
        "Classification is the process of predicting the class of given data points. Classes are sometiems called labels, targets or categories.  \n",
        "Classification predictive modeling, short classification, is the task of approximating a mapping function $f$ from input variables $X$ to discrete output variables $y$.\n",
        "\n",
        "An example for a binary classification might be a spam detector for your email service, since there are only 2 classes, spam or no spam, to classify. If we train our classification algorithm right, we're able to classify previously unknown emails correctly.\n",
        "\n",
        "Classification algorithms belongs to the family of supervised learning algoirthms. There are two types of learners in classification\n",
        "\n",
        "## Lazy\n",
        "- store training data\n",
        "- classifies based on most related data\n",
        "- less training time but more time to predict than eager learners\n",
        "- knn, case-based reasoning\n",
        "\n",
        "## Eager\n",
        "- construct classification model based on given training data\n",
        "- requires single hypothesis that covers entire instance space\n",
        "- long time training but little time predicting\n",
        "- Decision Tree, Naive Bayes, Artificial NN\n",
        "\n",
        "# Algorithms\n",
        "As in any field of ML there's **no algorithm that fits all** needs. The decision on the algorithm depends on the application and the nature of the available data set.\n",
        "\n",
        "Starting with eager algorithms.\n",
        "\n",
        "## Logistic Regression\n",
        "- A regression model used for classification\n",
        "- used when the features are categorial\n",
        "\n",
        "### Code\n"
      ]
    },
    {
      "cell_type": "code",
      "metadata": {
        "colab": {
          "base_uri": "https://localhost:8080/"
        },
        "id": "dMA-CQ3jsCHB",
        "outputId": "6782a028-c823-4753-c9a4-8ddd3e8464c7"
      },
      "source": [
        "import numpy as np\n",
        "from sklearn.datasets import load_iris\n",
        "from sklearn.model_selection import train_test_split\n",
        "from sklearn.linear_model import LogisticRegression\n",
        "X, y = load_iris(return_X_y=True)\n",
        "X = X[:, :2]\n",
        "X_train, X_test, y_train, y_test = train_test_split(X, y, test_size=0.2, random_state=9)\n",
        "\n",
        "# Create an instance of Logistic Regression Classifier and fit the data.\n",
        "logreg = LogisticRegression(C=1e6)\n",
        "logreg.fit(X_train, y_train)\n",
        "\n",
        "output = logreg.predict(X_test)\n",
        "\n",
        "print(f'Predicted {len(y_test) - sum(np.abs(output-y_test))}/{len(y_test)} right.')\n"
      ],
      "execution_count": 1,
      "outputs": [
        {
          "output_type": "stream",
          "name": "stdout",
          "text": [
            "Predicted 28/30 right.\n"
          ]
        }
      ]
    },
    {
      "cell_type": "markdown",
      "metadata": {
        "id": "vg4Q_yuDsCj-"
      },
      "source": [
        "\n",
        "\n",
        "## Decision Tree\n",
        "- builds classifiction or regression models in form of a tree structure\n",
        "- utilizes a set of conditionals which is mutually exclusive and exhaustive for classification\n",
        "- learns sequentially using training data\n",
        "- repeated learning until meeting a terminal condition\n",
        "- top-down recursive divide-and-conquer construction\n",
        "- categorial or discretized attributes\n",
        "- attributes higher in the tree have more impact towards classification\n",
        "- tends to\n",
        "  - overfit and generate too many branches\n",
        "  - reflects anomalies\n",
        "- can be improved by\n",
        "  - pre-pruning\n",
        "  - post-pruning\n",
        "\n",
        "#### Code"
      ]
    },
    {
      "cell_type": "code",
      "metadata": {
        "id": "4Uo57OU-06Nr"
      },
      "source": [
        "from sklearn import tree\n",
        "\n",
        "X = [[0, 0], [1, 1]]\n",
        "Y = [0, 1]\n",
        "clf = tree.DecisionTreeClassifier()\n",
        "clf = clf.fit(X, Y)"
      ],
      "execution_count": 2,
      "outputs": []
    },
    {
      "cell_type": "code",
      "metadata": {
        "colab": {
          "base_uri": "https://localhost:8080/"
        },
        "id": "sNLF30up1HAl",
        "outputId": "46cb0516-a2c4-478f-89cd-9b88f59f83dc"
      },
      "source": [
        "clf.predict([[2,2]])"
      ],
      "execution_count": 3,
      "outputs": [
        {
          "output_type": "execute_result",
          "data": {
            "text/plain": [
              "array([1])"
            ]
          },
          "metadata": {},
          "execution_count": 3
        }
      ]
    },
    {
      "cell_type": "code",
      "metadata": {
        "colab": {
          "base_uri": "https://localhost:8080/"
        },
        "id": "cdLVVbzp1Jfm",
        "outputId": "9bcd2774-450e-4881-e4b8-85206add69ae"
      },
      "source": [
        "proba = clf.predict_proba([[2., 2.]])\n",
        "log_proba = clf.predict_log_proba([[2., 2.]])\n",
        "\n",
        "print(proba)\n",
        "print(log_proba)"
      ],
      "execution_count": 4,
      "outputs": [
        {
          "output_type": "stream",
          "name": "stdout",
          "text": [
            "[[0. 1.]]\n",
            "[[-inf   0.]]\n"
          ]
        },
        {
          "output_type": "stream",
          "name": "stderr",
          "text": [
            "/usr/local/lib/python3.7/dist-packages/sklearn/tree/_classes.py:948: RuntimeWarning: divide by zero encountered in log\n",
            "  return np.log(proba)\n"
          ]
        }
      ]
    },
    {
      "cell_type": "markdown",
      "metadata": {
        "id": "8iI5pGDa1jU6"
      },
      "source": [
        "Now using a more advanced, multiclass example for classification:"
      ]
    },
    {
      "cell_type": "code",
      "metadata": {
        "id": "yTssmyLD1ZTN"
      },
      "source": [
        "from sklearn.datasets import load_iris\n",
        "from sklearn import tree\n",
        "\n",
        "iris = load_iris()\n",
        "X, y = iris.data, iris.target\n",
        "clf = tree.DecisionTreeClassifier()\n",
        "clf = clf.fit(X, y)"
      ],
      "execution_count": 5,
      "outputs": []
    },
    {
      "cell_type": "markdown",
      "metadata": {
        "id": "PhEL4C4Q19Mg"
      },
      "source": [
        "After a tree is trained, it can be visualized using"
      ]
    },
    {
      "cell_type": "code",
      "metadata": {
        "colab": {
          "base_uri": "https://localhost:8080/",
          "height": 543
        },
        "id": "jCuZlPAQ11Qh",
        "outputId": "150904ca-e87e-4e4e-8e34-567648addf6f"
      },
      "source": [
        "tree.plot_tree(clf)"
      ],
      "execution_count": 6,
      "outputs": [
        {
          "output_type": "execute_result",
          "data": {
            "text/plain": [
              "[Text(167.4, 199.32, 'X[2] <= 2.45\\ngini = 0.667\\nsamples = 150\\nvalue = [50, 50, 50]'),\n",
              " Text(141.64615384615385, 163.07999999999998, 'gini = 0.0\\nsamples = 50\\nvalue = [50, 0, 0]'),\n",
              " Text(193.15384615384616, 163.07999999999998, 'X[3] <= 1.75\\ngini = 0.5\\nsamples = 100\\nvalue = [0, 50, 50]'),\n",
              " Text(103.01538461538462, 126.83999999999999, 'X[2] <= 4.95\\ngini = 0.168\\nsamples = 54\\nvalue = [0, 49, 5]'),\n",
              " Text(51.50769230769231, 90.6, 'X[3] <= 1.65\\ngini = 0.041\\nsamples = 48\\nvalue = [0, 47, 1]'),\n",
              " Text(25.753846153846155, 54.359999999999985, 'gini = 0.0\\nsamples = 47\\nvalue = [0, 47, 0]'),\n",
              " Text(77.26153846153846, 54.359999999999985, 'gini = 0.0\\nsamples = 1\\nvalue = [0, 0, 1]'),\n",
              " Text(154.52307692307693, 90.6, 'X[3] <= 1.55\\ngini = 0.444\\nsamples = 6\\nvalue = [0, 2, 4]'),\n",
              " Text(128.76923076923077, 54.359999999999985, 'gini = 0.0\\nsamples = 3\\nvalue = [0, 0, 3]'),\n",
              " Text(180.27692307692308, 54.359999999999985, 'X[2] <= 5.45\\ngini = 0.444\\nsamples = 3\\nvalue = [0, 2, 1]'),\n",
              " Text(154.52307692307693, 18.119999999999976, 'gini = 0.0\\nsamples = 2\\nvalue = [0, 2, 0]'),\n",
              " Text(206.03076923076924, 18.119999999999976, 'gini = 0.0\\nsamples = 1\\nvalue = [0, 0, 1]'),\n",
              " Text(283.2923076923077, 126.83999999999999, 'X[2] <= 4.85\\ngini = 0.043\\nsamples = 46\\nvalue = [0, 1, 45]'),\n",
              " Text(257.53846153846155, 90.6, 'X[0] <= 5.95\\ngini = 0.444\\nsamples = 3\\nvalue = [0, 1, 2]'),\n",
              " Text(231.7846153846154, 54.359999999999985, 'gini = 0.0\\nsamples = 1\\nvalue = [0, 1, 0]'),\n",
              " Text(283.2923076923077, 54.359999999999985, 'gini = 0.0\\nsamples = 2\\nvalue = [0, 0, 2]'),\n",
              " Text(309.04615384615386, 90.6, 'gini = 0.0\\nsamples = 43\\nvalue = [0, 0, 43]')]"
            ]
          },
          "metadata": {},
          "execution_count": 6
        },
        {
          "output_type": "display_data",
          "data": {
            "image/png": "[encoded data removed]",
            "text/plain": [
              "<Figure size 432x288 with 1 Axes>"
            ]
          },
          "metadata": {
            "needs_background": "light"
          }
        }
      ]
    },
    {
      "cell_type": "code",
      "metadata": {
        "colab": {
          "base_uri": "https://localhost:8080/"
        },
        "id": "jK1Puhyn3Ldo",
        "outputId": "98c9a265-b9f1-4022-9ae6-4843406937c7"
      },
      "source": [
        "input_val = [X[15,:]]\n",
        "output_val = y[15]\n",
        "\n",
        "pre_tree = clf.predict(input_val)[0]\n",
        "\n",
        "print('Tree predicted class {pre_tree}, expected {output_val}')"
      ],
      "execution_count": 7,
      "outputs": [
        {
          "output_type": "stream",
          "name": "stdout",
          "text": [
            "Tree predicted class {pre_tree}, expected {output_val}\n"
          ]
        }
      ]
    },
    {
      "cell_type": "code",
      "metadata": {
        "colab": {
          "base_uri": "https://localhost:8080/"
        },
        "id": "stsnzJB74BZG",
        "outputId": "6f49c6fe-b538-4240-a62d-701efe4604ef"
      },
      "source": [
        "import numpy as np\n",
        "iris = load_iris()\n",
        "X, y = iris.data, iris.target\n",
        "\n",
        "x_shape = (X.shape[0] - 1, X.shape[1])\n",
        "\n",
        "# extract single element, becomes \"unknown\" element\n",
        "x = [X[5]]\n",
        "out = y[5]\n",
        "\n",
        "X = np.delete(X, 5, 0)\n",
        "y = np.delete(y, 5, 0)\n",
        "X = X.reshape(x_shape)\n",
        "\n",
        "# train the tree\n",
        "clf = tree.DecisionTreeClassifier()\n",
        "clf = clf.fit(X, y)\n",
        "\n",
        "# make the prediction\n",
        "clf.predict(x) # 0\n",
        "clf.predict_proba(x) # [1, 0, 0]\n"
      ],
      "execution_count": 8,
      "outputs": [
        {
          "output_type": "execute_result",
          "data": {
            "text/plain": [
              "array([[1., 0., 0.]])"
            ]
          },
          "metadata": {},
          "execution_count": 8
        }
      ]
    },
    {
      "cell_type": "markdown",
      "metadata": {
        "id": "dmJzMSes2TLg"
      },
      "source": [
        "## Naive Bayes\n",
        "- probabilistic classifier under assumption that the attributes are conditionally independent\n",
        "$$\n",
        "P(X, c_i) = \\prod \\limits_{k=1}^n P(x_k|c_i) = P(x_1|c_i)\\times P(x_2|c_i)\\times \\ldots \\times P(x_n | c_i)\n",
        "$$\n",
        "- classification is conducted by deriving the max posterior, $\\max\\, P(c_i|X)$\n",
        "- simple algorithm to implement\n",
        "- good results in most cases\n",
        "- easy scalable to large datasets\n",
        "- can suffer from zero probability problem\n",
        "- needs to be fixed with laplacian estimator\n",
        "\n",
        "### Implementations\n",
        "\n",
        "There are multiple implementations available in `sklearn`.\n",
        "\n",
        "We'll start with **Gaussian Naive Bayes**.\n",
        "\n",
        "#### Gaussian Naive Bayes\n",
        "The likelihood of the features is assumed to be Gaussian\n",
        "\n",
        "$$\n",
        "P(x_i|y) = \\frac{1}{\\sqrt{2\\pi\\sigma_{y}^{2}}}\n",
        "\\text{exp}\n",
        "\\left(\n",
        "  -\\frac{(x_i-\\mu_y)^2}{2\\sigma_y^2}\\right)\n",
        "$$\n",
        "where we use the maximum likelihood to estimate $\\sigma_y$ and $\\mu_y$."
      ]
    },
    {
      "cell_type": "code",
      "metadata": {
        "id": "SghYF5nb12nT"
      },
      "source": [
        "from sklearn.datasets import load_iris\n",
        "from sklearn.model_selection import train_test_split\n",
        "from sklearn.naive_bayes import GaussianNB\n",
        "X, y = load_iris(return_X_y=True)\n",
        "X_train, X_test, y_train, y_test = train_test_split(X, y, test_size=0.5, random_state=0)"
      ],
      "execution_count": 9,
      "outputs": []
    },
    {
      "cell_type": "code",
      "metadata": {
        "colab": {
          "base_uri": "https://localhost:8080/"
        },
        "id": "XjPnLgnF63lT",
        "outputId": "38f27d45-254a-4dbb-fddc-168c2796889c"
      },
      "source": [
        "clf = GaussianNB()\n",
        "clf.fit(X_train, y_train)\n",
        "\n",
        "y_pred = clf.predict(X_test)\n",
        "\n",
        "print(f'Number of mislabled points out of a total of {X_test.shape[0]} points: {(y_test != y_pred).sum()}')\n"
      ],
      "execution_count": 10,
      "outputs": [
        {
          "output_type": "stream",
          "name": "stdout",
          "text": [
            "Number of mislabled points out of a total of 75 points: 4\n"
          ]
        }
      ]
    },
    {
      "cell_type": "markdown",
      "metadata": {
        "id": "nzxBEyI78r8I"
      },
      "source": [
        "#### Multinomial Naive Bayes (MNB)\n",
        "- naive Bayes for multinomially distributed data\n",
        "- used in text classification\n",
        "\n",
        "#### Complement Naive Bayes (CNB)\n",
        "- adaptation of MNB\n",
        "- suits for imbalanced datasets\n",
        "- used in text classification\n",
        "\n",
        "#### Bernoulli Naive Bayes\n",
        "- for multivariante Bernoulli distributed data\n",
        "- might have multiple features, but each needs to be binary\n",
        "- binary input\n",
        "- for text classification use word occurence vectors rather than word count vectors\n",
        "\n",
        "#### Categorical Naive Bayes\n",
        "- for categorial distributed data where each features has its own categorial distribution\n",
        "- assumes that all categories for all features are represented with numbers $0, \\ldots, n_i - 1$ "
      ]
    },
    {
      "cell_type": "markdown",
      "metadata": {
        "id": "aboX2jxeDg3A"
      },
      "source": [
        "## Artificial Neural Networks\n",
        "A artificial neural network is a set of connected input/output units where each connection has a weight associated with it. During the learning phase, the network learns by adjusting the weights so as to be able to predict the correct class label of the input tuples.\n",
        "\n",
        "There are many network architectures like\n",
        "- Feed Forward NNs\n",
        "- Convolutional NNs\n",
        "- Recurrent NNs\n",
        "\n",
        "But the appropriate architecture depends on the application of the model. So again **no network that fits all needs**. But it's safe to claim that for most cases feed-forward models give reasonably accurate results and especially for tasks like image processing, convolutional networks perform better.\n",
        "\n",
        "Depending on the complexity of the function which is mapped to the model the model can or can not have multiple hidden layers. Having more hidden layers enables to model complex relationships such as deep neural networks.\n",
        "\n",
        "#### Pros:\n",
        "- perform impressively in most real world applications\n",
        "- high tolerance to noisy data\n",
        "- can classify untrained patterns\n",
        "- perform usually better with continuous-valued input and output\n",
        "\n",
        "#### Cons:\n",
        "- many hidden layers <=> long training time\n",
        "- poor interpretability of the model, compared to other models like Decision Trees, due to unknown symbolic meaning of learned weights\n",
        "\n",
        "### Code\n",
        "\n",
        "using `sklearn`"
      ]
    },
    {
      "cell_type": "code",
      "metadata": {
        "id": "6mZVM30qDo1n"
      },
      "source": [
        "from sklearn.datasets import load_iris\n",
        "from sklearn.model_selection import train_test_split\n",
        "from sklearn.neural_network import MLPClassifier\n",
        "\n",
        "\n",
        "X, y = load_iris(return_X_y=True)\n",
        "X_train, X_test, y_train, y_test = train_test_split(X, y, test_size=0.5, random_state=0)\n",
        "\n",
        "\n",
        "transformed_y_train = []\n",
        "for elem in y_train:\n",
        "  vec = [0,0,0]\n",
        "  vec[elem] = 1.0\n",
        "  transformed_y_train.append(vec)\n",
        "\n",
        "X_train = X_train\n",
        "y_train = transformed_y_train\n"
      ],
      "execution_count": 11,
      "outputs": []
    },
    {
      "cell_type": "code",
      "metadata": {
        "colab": {
          "base_uri": "https://localhost:8080/"
        },
        "id": "9ws2nkG8Ffej",
        "outputId": "860a7e07-d4e6-46ca-d50b-5324bc64d7f8"
      },
      "source": [
        "clf = MLPClassifier()\n",
        "clf.fit(X_train, y_train)\n",
        "\n",
        "output = clf.predict([X_test[5, :]])\n",
        "\n",
        "print(f'Predicted: {output}, Expected: {y_test[5]}')"
      ],
      "execution_count": 12,
      "outputs": [
        {
          "output_type": "stream",
          "name": "stdout",
          "text": [
            "Predicted: [[0 0 1]], Expected: 2\n"
          ]
        },
        {
          "output_type": "stream",
          "name": "stderr",
          "text": [
            "/usr/local/lib/python3.7/dist-packages/sklearn/neural_network/_multilayer_perceptron.py:571: ConvergenceWarning: Stochastic Optimizer: Maximum iterations (200) reached and the optimization hasn't converged yet.\n",
            "  % self.max_iter, ConvergenceWarning)\n"
          ]
        }
      ]
    },
    {
      "cell_type": "markdown",
      "metadata": {
        "id": "XeDWE_t3HLt-"
      },
      "source": [
        "#### `pytorch`"
      ]
    },
    {
      "cell_type": "code",
      "metadata": {
        "id": "4R6zJyewHEz7"
      },
      "source": [
        "import torch\n",
        "torch_X_train = torch.tensor(X_train, dtype=float)\n",
        "torch_y_train = torch.tensor(y_train, dtype=float)\n"
      ],
      "execution_count": 13,
      "outputs": []
    },
    {
      "cell_type": "markdown",
      "metadata": {
        "id": "IueKQcGwH84F"
      },
      "source": [
        "Single layer FNN.\n",
        "\n",
        "**One note:** We need to encode the three available classes \"Iris setosa, \"Iris virginica\" and \"Iris versicolor\" as three output parameters, to later on get the probability for each class and use simple $\\text{argmax}(y_0, y_1, y_2)$ as the final classification."
      ]
    },
    {
      "cell_type": "code",
      "metadata": {
        "colab": {
          "base_uri": "https://localhost:8080/"
        },
        "id": "TarKazbtHSGY",
        "outputId": "b1268475-73a7-4b97-888f-1538832c6254"
      },
      "source": [
        "layer1 = torch.nn.Linear(X_train.shape[1], 3, dtype=float)\n",
        "\n",
        "layer1(torch.tensor(X_test[5], dtype=float))"
      ],
      "execution_count": 14,
      "outputs": [
        {
          "output_type": "execute_result",
          "data": {
            "text/plain": [
              "tensor([-3.0272, -1.9356, -3.7428], dtype=torch.float64,\n",
              "       grad_fn=<AddBackward0>)"
            ]
          },
          "metadata": {},
          "execution_count": 14
        }
      ]
    },
    {
      "cell_type": "markdown",
      "metadata": {
        "id": "o2OFrpNKIlKA"
      },
      "source": [
        "Adding an optimizer to train with"
      ]
    },
    {
      "cell_type": "code",
      "metadata": {
        "id": "Uk1QSRkZINtK"
      },
      "source": [
        "optim = torch.optim.SGD(layer1.parameters(), lr=0.1)"
      ],
      "execution_count": 15,
      "outputs": []
    },
    {
      "cell_type": "markdown",
      "metadata": {
        "id": "te4woGizLXVI"
      },
      "source": [
        "Trying to train the single layer model"
      ]
    },
    {
      "cell_type": "code",
      "metadata": {
        "colab": {
          "base_uri": "https://localhost:8080/"
        },
        "id": "xqPw9i7sI2rO",
        "outputId": "8db567e2-6bd4-4687-fa23-9a01ade965f4"
      },
      "source": [
        "\n",
        "for i in range(50):\n",
        "  optim.zero_grad()\n",
        "\n",
        "  o = layer1(torch_X_train)\n",
        "  \n",
        "  error = torch.sum((o.view(-1) - torch_y_train.view(-1)) ** 2)\n",
        "  error.backward()\n",
        "  if i % 50 == 0:\n",
        "    print(error)\n",
        "  optim.step()\n"
      ],
      "execution_count": 16,
      "outputs": [
        {
          "output_type": "stream",
          "name": "stdout",
          "text": [
            "tensor(2100.2360, dtype=torch.float64, grad_fn=<SumBackward0>)\n"
          ]
        }
      ]
    },
    {
      "cell_type": "code",
      "metadata": {
        "colab": {
          "base_uri": "https://localhost:8080/"
        },
        "id": "NZlkSqIaJWay",
        "outputId": "6b5caa5f-867a-413a-bc59-3f8eab88f922"
      },
      "source": [
        "output = layer1(torch.tensor(X_test[5], dtype=float))\n",
        "\n",
        "print(output)\n",
        "print(f'Predicted: {tensor.argmax(output)}, Expected: {y_test[5]}')"
      ],
      "execution_count": 17,
      "outputs": [
        {
          "output_type": "stream",
          "name": "stdout",
          "text": [
            "Predicted: tensor([-1.3629e+149, -9.8585e+148, -1.5372e+149], dtype=torch.float64,\n",
            "       grad_fn=<AddBackward0>), Expected: 2\n"
          ]
        }
      ]
    },
    {
      "cell_type": "markdown",
      "metadata": {
        "id": "P-_0UeLkLaqj"
      },
      "source": [
        "As we can see the result is rather poor. Let's add another layer to the model."
      ]
    },
    {
      "cell_type": "code",
      "metadata": {
        "colab": {
          "base_uri": "https://localhost:8080/"
        },
        "id": "MZDAH8PMJd1w",
        "outputId": "81feb857-05fe-4eb6-b055-a88172b380cb"
      },
      "source": [
        "layer1_out = 18\n",
        "layer2_out = 8\n",
        "final_out = 3\n",
        "\n",
        "layer1 = torch.nn.Linear(X_train.shape[1], layer1_out, dtype=float)\n",
        "layer2 = torch.nn.Linear(layer1_out, layer2_out, dtype=float)\n",
        "layer3 = torch.nn.Linear(layer2_out, final_out, dtype=float)\n",
        "layer3(layer2(layer1(torch.tensor(X_test[5], dtype=float))))"
      ],
      "execution_count": 18,
      "outputs": [
        {
          "output_type": "execute_result",
          "data": {
            "text/plain": [
              "tensor([-0.7158, -1.8860, -0.2412], dtype=torch.float64,\n",
              "       grad_fn=<AddBackward0>)"
            ]
          },
          "metadata": {},
          "execution_count": 18
        }
      ]
    },
    {
      "cell_type": "code",
      "metadata": {
        "id": "DyYiZBzUL5lk"
      },
      "source": [
        "optim = torch.optim.SGD([*layer1.parameters(), *layer2.parameters(), *layer3.parameters()], lr=0.01)"
      ],
      "execution_count": 19,
      "outputs": []
    },
    {
      "cell_type": "code",
      "metadata": {
        "colab": {
          "base_uri": "https://localhost:8080/"
        },
        "id": "iluJb-cNLuLw",
        "outputId": "9247bbaf-dc59-44df-cbbe-25dd5b979366"
      },
      "source": [
        "for epoch in range(50):\n",
        "  for i in range(len(torch_y_train)):\n",
        "    optim.zero_grad()\n",
        "\n",
        "    output = layer3(layer2(layer1(torch_X_train[i])))\n",
        "\n",
        "    # output = torch.sigmoid(layer3(torch.sigmoid(layer2(torch.sigmoid(layer1(torch_X_train[i]))))))\n",
        "\n",
        "    error = torch.sum((output.view(-1) - torch_y_train[i]) ** 2)\n",
        "    error.backward()\n",
        "    if i % 50 == 0:\n",
        "      print(error)\n",
        "    optim.step()"
      ],
      "execution_count": 20,
      "outputs": [
        {
          "output_type": "stream",
          "name": "stdout",
          "text": [
            "tensor(2.4120, dtype=torch.float64, grad_fn=<SumBackward0>)\n",
            "tensor(0.1575, dtype=torch.float64, grad_fn=<SumBackward0>)\n",
            "tensor(0.0190, dtype=torch.float64, grad_fn=<SumBackward0>)\n",
            "tensor(0.0254, dtype=torch.float64, grad_fn=<SumBackward0>)\n",
            "tensor(0.0239, dtype=torch.float64, grad_fn=<SumBackward0>)\n",
            "tensor(0.0260, dtype=torch.float64, grad_fn=<SumBackward0>)\n",
            "tensor(0.0352, dtype=torch.float64, grad_fn=<SumBackward0>)\n",
            "tensor(0.0264, dtype=torch.float64, grad_fn=<SumBackward0>)\n",
            "tensor(0.0427, dtype=torch.float64, grad_fn=<SumBackward0>)\n",
            "tensor(0.0270, dtype=torch.float64, grad_fn=<SumBackward0>)\n",
            "tensor(0.0486, dtype=torch.float64, grad_fn=<SumBackward0>)\n",
            "tensor(0.0277, dtype=torch.float64, grad_fn=<SumBackward0>)\n",
            "tensor(0.0532, dtype=torch.float64, grad_fn=<SumBackward0>)\n",
            "tensor(0.0283, dtype=torch.float64, grad_fn=<SumBackward0>)\n",
            "tensor(0.0569, dtype=torch.float64, grad_fn=<SumBackward0>)\n",
            "tensor(0.0285, dtype=torch.float64, grad_fn=<SumBackward0>)\n",
            "tensor(0.0601, dtype=torch.float64, grad_fn=<SumBackward0>)\n",
            "tensor(0.0285, dtype=torch.float64, grad_fn=<SumBackward0>)\n",
            "tensor(0.0629, dtype=torch.float64, grad_fn=<SumBackward0>)\n",
            "tensor(0.0281, dtype=torch.float64, grad_fn=<SumBackward0>)\n",
            "tensor(0.0653, dtype=torch.float64, grad_fn=<SumBackward0>)\n",
            "tensor(0.0276, dtype=torch.float64, grad_fn=<SumBackward0>)\n",
            "tensor(0.0675, dtype=torch.float64, grad_fn=<SumBackward0>)\n",
            "tensor(0.0269, dtype=torch.float64, grad_fn=<SumBackward0>)\n",
            "tensor(0.0695, dtype=torch.float64, grad_fn=<SumBackward0>)\n",
            "tensor(0.0260, dtype=torch.float64, grad_fn=<SumBackward0>)\n",
            "tensor(0.0712, dtype=torch.float64, grad_fn=<SumBackward0>)\n",
            "tensor(0.0251, dtype=torch.float64, grad_fn=<SumBackward0>)\n",
            "tensor(0.0727, dtype=torch.float64, grad_fn=<SumBackward0>)\n",
            "tensor(0.0241, dtype=torch.float64, grad_fn=<SumBackward0>)\n",
            "tensor(0.0739, dtype=torch.float64, grad_fn=<SumBackward0>)\n",
            "tensor(0.0230, dtype=torch.float64, grad_fn=<SumBackward0>)\n",
            "tensor(0.0748, dtype=torch.float64, grad_fn=<SumBackward0>)\n",
            "tensor(0.0220, dtype=torch.float64, grad_fn=<SumBackward0>)\n",
            "tensor(0.0754, dtype=torch.float64, grad_fn=<SumBackward0>)\n",
            "tensor(0.0209, dtype=torch.float64, grad_fn=<SumBackward0>)\n",
            "tensor(0.0758, dtype=torch.float64, grad_fn=<SumBackward0>)\n",
            "tensor(0.0198, dtype=torch.float64, grad_fn=<SumBackward0>)\n",
            "tensor(0.0759, dtype=torch.float64, grad_fn=<SumBackward0>)\n",
            "tensor(0.0188, dtype=torch.float64, grad_fn=<SumBackward0>)\n",
            "tensor(0.0758, dtype=torch.float64, grad_fn=<SumBackward0>)\n",
            "tensor(0.0178, dtype=torch.float64, grad_fn=<SumBackward0>)\n",
            "tensor(0.0755, dtype=torch.float64, grad_fn=<SumBackward0>)\n",
            "tensor(0.0168, dtype=torch.float64, grad_fn=<SumBackward0>)\n",
            "tensor(0.0751, dtype=torch.float64, grad_fn=<SumBackward0>)\n",
            "tensor(0.0160, dtype=torch.float64, grad_fn=<SumBackward0>)\n",
            "tensor(0.0746, dtype=torch.float64, grad_fn=<SumBackward0>)\n",
            "tensor(0.0152, dtype=torch.float64, grad_fn=<SumBackward0>)\n",
            "tensor(0.0740, dtype=torch.float64, grad_fn=<SumBackward0>)\n",
            "tensor(0.0144, dtype=torch.float64, grad_fn=<SumBackward0>)\n",
            "tensor(0.0733, dtype=torch.float64, grad_fn=<SumBackward0>)\n",
            "tensor(0.0137, dtype=torch.float64, grad_fn=<SumBackward0>)\n",
            "tensor(0.0726, dtype=torch.float64, grad_fn=<SumBackward0>)\n",
            "tensor(0.0130, dtype=torch.float64, grad_fn=<SumBackward0>)\n",
            "tensor(0.0719, dtype=torch.float64, grad_fn=<SumBackward0>)\n",
            "tensor(0.0124, dtype=torch.float64, grad_fn=<SumBackward0>)\n",
            "tensor(0.0712, dtype=torch.float64, grad_fn=<SumBackward0>)\n",
            "tensor(0.0119, dtype=torch.float64, grad_fn=<SumBackward0>)\n",
            "tensor(0.0706, dtype=torch.float64, grad_fn=<SumBackward0>)\n",
            "tensor(0.0113, dtype=torch.float64, grad_fn=<SumBackward0>)\n",
            "tensor(0.0699, dtype=torch.float64, grad_fn=<SumBackward0>)\n",
            "tensor(0.0109, dtype=torch.float64, grad_fn=<SumBackward0>)\n",
            "tensor(0.0692, dtype=torch.float64, grad_fn=<SumBackward0>)\n",
            "tensor(0.0104, dtype=torch.float64, grad_fn=<SumBackward0>)\n",
            "tensor(0.0686, dtype=torch.float64, grad_fn=<SumBackward0>)\n",
            "tensor(0.0100, dtype=torch.float64, grad_fn=<SumBackward0>)\n",
            "tensor(0.0681, dtype=torch.float64, grad_fn=<SumBackward0>)\n",
            "tensor(0.0097, dtype=torch.float64, grad_fn=<SumBackward0>)\n",
            "tensor(0.0675, dtype=torch.float64, grad_fn=<SumBackward0>)\n",
            "tensor(0.0093, dtype=torch.float64, grad_fn=<SumBackward0>)\n",
            "tensor(0.0670, dtype=torch.float64, grad_fn=<SumBackward0>)\n",
            "tensor(0.0090, dtype=torch.float64, grad_fn=<SumBackward0>)\n",
            "tensor(0.0665, dtype=torch.float64, grad_fn=<SumBackward0>)\n",
            "tensor(0.0087, dtype=torch.float64, grad_fn=<SumBackward0>)\n",
            "tensor(0.0661, dtype=torch.float64, grad_fn=<SumBackward0>)\n",
            "tensor(0.0084, dtype=torch.float64, grad_fn=<SumBackward0>)\n",
            "tensor(0.0657, dtype=torch.float64, grad_fn=<SumBackward0>)\n",
            "tensor(0.0082, dtype=torch.float64, grad_fn=<SumBackward0>)\n",
            "tensor(0.0653, dtype=torch.float64, grad_fn=<SumBackward0>)\n",
            "tensor(0.0080, dtype=torch.float64, grad_fn=<SumBackward0>)\n",
            "tensor(0.0650, dtype=torch.float64, grad_fn=<SumBackward0>)\n",
            "tensor(0.0078, dtype=torch.float64, grad_fn=<SumBackward0>)\n",
            "tensor(0.0647, dtype=torch.float64, grad_fn=<SumBackward0>)\n",
            "tensor(0.0076, dtype=torch.float64, grad_fn=<SumBackward0>)\n",
            "tensor(0.0645, dtype=torch.float64, grad_fn=<SumBackward0>)\n",
            "tensor(0.0074, dtype=torch.float64, grad_fn=<SumBackward0>)\n",
            "tensor(0.0643, dtype=torch.float64, grad_fn=<SumBackward0>)\n",
            "tensor(0.0073, dtype=torch.float64, grad_fn=<SumBackward0>)\n",
            "tensor(0.0641, dtype=torch.float64, grad_fn=<SumBackward0>)\n",
            "tensor(0.0071, dtype=torch.float64, grad_fn=<SumBackward0>)\n",
            "tensor(0.0640, dtype=torch.float64, grad_fn=<SumBackward0>)\n",
            "tensor(0.0070, dtype=torch.float64, grad_fn=<SumBackward0>)\n",
            "tensor(0.0639, dtype=torch.float64, grad_fn=<SumBackward0>)\n",
            "tensor(0.0069, dtype=torch.float64, grad_fn=<SumBackward0>)\n",
            "tensor(0.0638, dtype=torch.float64, grad_fn=<SumBackward0>)\n",
            "tensor(0.0068, dtype=torch.float64, grad_fn=<SumBackward0>)\n",
            "tensor(0.0637, dtype=torch.float64, grad_fn=<SumBackward0>)\n",
            "tensor(0.0067, dtype=torch.float64, grad_fn=<SumBackward0>)\n",
            "tensor(0.0637, dtype=torch.float64, grad_fn=<SumBackward0>)\n",
            "tensor(0.0067, dtype=torch.float64, grad_fn=<SumBackward0>)\n"
          ]
        }
      ]
    },
    {
      "cell_type": "code",
      "metadata": {
        "id": "lPEVLFMhMIFf",
        "colab": {
          "base_uri": "https://localhost:8080/"
        },
        "outputId": "8bc0a4b8-66e4-461c-eaa3-ef35939639d8"
      },
      "source": [
        "prediction = torch.sigmoid(layer3(torch.sigmoid(layer2(torch.sigmoid(layer1(torch.tensor(X_test[5])))))))\n",
        "expected = y_test[5]\n",
        "\n",
        "print(prediction)\n",
        "print(f'Predicted: {torch.argmax(prediction)}, Expected: {expected}')"
      ],
      "execution_count": 21,
      "outputs": [
        {
          "output_type": "stream",
          "name": "stdout",
          "text": [
            "tensor([0.4813, 0.6850, 0.6267], dtype=torch.float64,\n",
            "       grad_fn=<SigmoidBackward>)\n",
            "Predicted: 1, Expected: 2\n"
          ]
        }
      ]
    },
    {
      "cell_type": "markdown",
      "metadata": {
        "id": "YniHI7nOZAh3"
      },
      "source": [
        "As we can see neither of the manually created NNs using `pytorch` are giving satisfying results to our test data. Whereas the single layer NN gives bad to unuseful results, the multi layer NN has tendencies to reduce it's error, yet the fluctuation in said error is too unstable.\n",
        "\n",
        "One thing we could do is adding *activation* functions to each layer. For now all we do is\n",
        "$$\n",
        "L(X) = L_3(L_2(L_1(X)))\n",
        "$$\n",
        "which is actually equal to\n",
        "$$\n",
        "L(X) = P(X),\\\\\n",
        "\\text{where}\\, P = L_3 \\cdot L_2 \\cdot L_1\n",
        "$$\n",
        "As you can see instead of actually adjusting $\\beta$ values along the way, we  perform a single matrix-vector multiplication, which means under the hood we do in both cases the same thing.  \n",
        "So instead of doing all that fancy 3 layer stuff. Let's use two layers, and connect them with an activation function.\n",
        "\n",
        "Activation functions are a helpful tool to add complexity to the function the algorithm is learning. By adding complexity we can solve the problem of overfitting. But we will come back later in detail about these magic **activation functions**.\n",
        "\n",
        "For now we just see them as a tool to add complexity, which might improve the quality of predictions in our NN.\n",
        "\n",
        "One of these functions is sigmoid\n",
        "$$\n",
        "\\sigma(x) = \\frac{1}{1+\\exp(-x)}\n",
        "$$"
      ]
    },
    {
      "cell_type": "code",
      "metadata": {
        "colab": {
          "base_uri": "https://localhost:8080/",
          "height": 281
        },
        "id": "dsnPsKT8QzPU",
        "outputId": "e770707d-8483-4ba1-ebd7-814dc2894818"
      },
      "source": [
        "import matplotlib.pyplot as plt\n",
        "\n",
        "sigmoid = lambda x: 1.0/(1+np.exp(-x))\n",
        "\n",
        "x = np.linspace(-10, 10, 1000)\n",
        "\n",
        "plt.title('Sigmoid')\n",
        "plt.plot(x, sigmoid(x))\n",
        "plt.show()"
      ],
      "execution_count": 22,
      "outputs": [
        {
          "output_type": "display_data",
          "data": {
            "image/png": "[encoded data removed]",
            "text/plain": [
              "<Figure size 432x288 with 1 Axes>"
            ]
          },
          "metadata": {
            "needs_background": "light"
          }
        }
      ]
    },
    {
      "cell_type": "markdown",
      "metadata": {
        "id": "feTZoIXFcR6S"
      },
      "source": [
        "This nifty function maps it's input into a range of $[0, 1]$.\n",
        "\n",
        "Applied to our NN:"
      ]
    },
    {
      "cell_type": "code",
      "metadata": {
        "id": "3nNcYZgiFGYj"
      },
      "source": [
        "layer1_out = 18\n",
        "layer2_out = 8\n",
        "final_out = 3\n",
        "\n",
        "layer1 = torch.nn.Linear(X_train.shape[1], layer1_out, dtype=float)\n",
        "layer2 = torch.nn.Linear(layer1_out, layer2_out, dtype=float)\n",
        "layer3 = torch.nn.Linear(layer2_out, final_out, dtype=float)\n",
        "layer3(layer2(layer1(torch.tensor(X_test[5], dtype=float))))\n",
        "optim = torch.optim.SGD([*layer1.parameters(), *layer2.parameters(), *layer3.parameters()], lr=0.1)"
      ],
      "execution_count": 23,
      "outputs": []
    },
    {
      "cell_type": "code",
      "metadata": {
        "colab": {
          "base_uri": "https://localhost:8080/"
        },
        "id": "JeDuVwT6cdFf",
        "outputId": "af0c2680-f36d-42f4-f3d0-5f46f4b23cde"
      },
      "source": [
        "for epoch in range(50):\n",
        "  for i in range(len(torch_y_train)):\n",
        "    optim.zero_grad()\n",
        "\n",
        "    o1 = torch.sigmoid(layer1(torch_X_train[i]))\n",
        "    o2 = torch.sigmoid(layer2(o1))\n",
        "    output = torch.sigmoid(layer3(o2))\n",
        "\n",
        "    error = torch.sum((output.view(-1) - torch_y_train[i]) ** 2)\n",
        "    error.backward()\n",
        "    if i % 50 == 0:\n",
        "      print(error)\n",
        "    optim.step()"
      ],
      "execution_count": 24,
      "outputs": [
        {
          "output_type": "stream",
          "name": "stdout",
          "text": [
            "tensor(0.6330, dtype=torch.float64, grad_fn=<SumBackward0>)\n",
            "tensor(0.4743, dtype=torch.float64, grad_fn=<SumBackward0>)\n",
            "tensor(0.6010, dtype=torch.float64, grad_fn=<SumBackward0>)\n",
            "tensor(0.4735, dtype=torch.float64, grad_fn=<SumBackward0>)\n",
            "tensor(0.5931, dtype=torch.float64, grad_fn=<SumBackward0>)\n",
            "tensor(0.4697, dtype=torch.float64, grad_fn=<SumBackward0>)\n",
            "tensor(0.5865, dtype=torch.float64, grad_fn=<SumBackward0>)\n",
            "tensor(0.4651, dtype=torch.float64, grad_fn=<SumBackward0>)\n",
            "tensor(0.5795, dtype=torch.float64, grad_fn=<SumBackward0>)\n",
            "tensor(0.4584, dtype=torch.float64, grad_fn=<SumBackward0>)\n",
            "tensor(0.5702, dtype=torch.float64, grad_fn=<SumBackward0>)\n",
            "tensor(0.4476, dtype=torch.float64, grad_fn=<SumBackward0>)\n",
            "tensor(0.5564, dtype=torch.float64, grad_fn=<SumBackward0>)\n",
            "tensor(0.4289, dtype=torch.float64, grad_fn=<SumBackward0>)\n",
            "tensor(0.5338, dtype=torch.float64, grad_fn=<SumBackward0>)\n",
            "tensor(0.3955, dtype=torch.float64, grad_fn=<SumBackward0>)\n",
            "tensor(0.4925, dtype=torch.float64, grad_fn=<SumBackward0>)\n",
            "tensor(0.3373, dtype=torch.float64, grad_fn=<SumBackward0>)\n",
            "tensor(0.4172, dtype=torch.float64, grad_fn=<SumBackward0>)\n",
            "tensor(0.2541, dtype=torch.float64, grad_fn=<SumBackward0>)\n",
            "tensor(0.3094, dtype=torch.float64, grad_fn=<SumBackward0>)\n",
            "tensor(0.1685, dtype=torch.float64, grad_fn=<SumBackward0>)\n",
            "tensor(0.2077, dtype=torch.float64, grad_fn=<SumBackward0>)\n",
            "tensor(0.1076, dtype=torch.float64, grad_fn=<SumBackward0>)\n",
            "tensor(0.1402, dtype=torch.float64, grad_fn=<SumBackward0>)\n",
            "tensor(0.0726, dtype=torch.float64, grad_fn=<SumBackward0>)\n",
            "tensor(0.1009, dtype=torch.float64, grad_fn=<SumBackward0>)\n",
            "tensor(0.0533, dtype=torch.float64, grad_fn=<SumBackward0>)\n",
            "tensor(0.0786, dtype=torch.float64, grad_fn=<SumBackward0>)\n",
            "tensor(0.0426, dtype=torch.float64, grad_fn=<SumBackward0>)\n",
            "tensor(0.0658, dtype=torch.float64, grad_fn=<SumBackward0>)\n",
            "tensor(0.0364, dtype=torch.float64, grad_fn=<SumBackward0>)\n",
            "tensor(0.0585, dtype=torch.float64, grad_fn=<SumBackward0>)\n",
            "tensor(0.0328, dtype=torch.float64, grad_fn=<SumBackward0>)\n",
            "tensor(0.0544, dtype=torch.float64, grad_fn=<SumBackward0>)\n",
            "tensor(0.0308, dtype=torch.float64, grad_fn=<SumBackward0>)\n",
            "tensor(0.0523, dtype=torch.float64, grad_fn=<SumBackward0>)\n",
            "tensor(0.0297, dtype=torch.float64, grad_fn=<SumBackward0>)\n",
            "tensor(0.0515, dtype=torch.float64, grad_fn=<SumBackward0>)\n",
            "tensor(0.0293, dtype=torch.float64, grad_fn=<SumBackward0>)\n",
            "tensor(0.0515, dtype=torch.float64, grad_fn=<SumBackward0>)\n",
            "tensor(0.0292, dtype=torch.float64, grad_fn=<SumBackward0>)\n",
            "tensor(0.0519, dtype=torch.float64, grad_fn=<SumBackward0>)\n",
            "tensor(0.0293, dtype=torch.float64, grad_fn=<SumBackward0>)\n",
            "tensor(0.0526, dtype=torch.float64, grad_fn=<SumBackward0>)\n",
            "tensor(0.0296, dtype=torch.float64, grad_fn=<SumBackward0>)\n",
            "tensor(0.0535, dtype=torch.float64, grad_fn=<SumBackward0>)\n",
            "tensor(0.0299, dtype=torch.float64, grad_fn=<SumBackward0>)\n",
            "tensor(0.0544, dtype=torch.float64, grad_fn=<SumBackward0>)\n",
            "tensor(0.0302, dtype=torch.float64, grad_fn=<SumBackward0>)\n",
            "tensor(0.0553, dtype=torch.float64, grad_fn=<SumBackward0>)\n",
            "tensor(0.0305, dtype=torch.float64, grad_fn=<SumBackward0>)\n",
            "tensor(0.0562, dtype=torch.float64, grad_fn=<SumBackward0>)\n",
            "tensor(0.0308, dtype=torch.float64, grad_fn=<SumBackward0>)\n",
            "tensor(0.0571, dtype=torch.float64, grad_fn=<SumBackward0>)\n",
            "tensor(0.0311, dtype=torch.float64, grad_fn=<SumBackward0>)\n",
            "tensor(0.0578, dtype=torch.float64, grad_fn=<SumBackward0>)\n",
            "tensor(0.0312, dtype=torch.float64, grad_fn=<SumBackward0>)\n",
            "tensor(0.0582, dtype=torch.float64, grad_fn=<SumBackward0>)\n",
            "tensor(0.0311, dtype=torch.float64, grad_fn=<SumBackward0>)\n",
            "tensor(0.0583, dtype=torch.float64, grad_fn=<SumBackward0>)\n",
            "tensor(0.0310, dtype=torch.float64, grad_fn=<SumBackward0>)\n",
            "tensor(0.0579, dtype=torch.float64, grad_fn=<SumBackward0>)\n",
            "tensor(0.0306, dtype=torch.float64, grad_fn=<SumBackward0>)\n",
            "tensor(0.0570, dtype=torch.float64, grad_fn=<SumBackward0>)\n",
            "tensor(0.0301, dtype=torch.float64, grad_fn=<SumBackward0>)\n",
            "tensor(0.0557, dtype=torch.float64, grad_fn=<SumBackward0>)\n",
            "tensor(0.0295, dtype=torch.float64, grad_fn=<SumBackward0>)\n",
            "tensor(0.0540, dtype=torch.float64, grad_fn=<SumBackward0>)\n",
            "tensor(0.0288, dtype=torch.float64, grad_fn=<SumBackward0>)\n",
            "tensor(0.0520, dtype=torch.float64, grad_fn=<SumBackward0>)\n",
            "tensor(0.0280, dtype=torch.float64, grad_fn=<SumBackward0>)\n",
            "tensor(0.0497, dtype=torch.float64, grad_fn=<SumBackward0>)\n",
            "tensor(0.0271, dtype=torch.float64, grad_fn=<SumBackward0>)\n",
            "tensor(0.0471, dtype=torch.float64, grad_fn=<SumBackward0>)\n",
            "tensor(0.0260, dtype=torch.float64, grad_fn=<SumBackward0>)\n",
            "tensor(0.0444, dtype=torch.float64, grad_fn=<SumBackward0>)\n",
            "tensor(0.0249, dtype=torch.float64, grad_fn=<SumBackward0>)\n",
            "tensor(0.0416, dtype=torch.float64, grad_fn=<SumBackward0>)\n",
            "tensor(0.0236, dtype=torch.float64, grad_fn=<SumBackward0>)\n",
            "tensor(0.0387, dtype=torch.float64, grad_fn=<SumBackward0>)\n",
            "tensor(0.0223, dtype=torch.float64, grad_fn=<SumBackward0>)\n",
            "tensor(0.0359, dtype=torch.float64, grad_fn=<SumBackward0>)\n",
            "tensor(0.0210, dtype=torch.float64, grad_fn=<SumBackward0>)\n",
            "tensor(0.0332, dtype=torch.float64, grad_fn=<SumBackward0>)\n",
            "tensor(0.0197, dtype=torch.float64, grad_fn=<SumBackward0>)\n",
            "tensor(0.0307, dtype=torch.float64, grad_fn=<SumBackward0>)\n",
            "tensor(0.0184, dtype=torch.float64, grad_fn=<SumBackward0>)\n",
            "tensor(0.0283, dtype=torch.float64, grad_fn=<SumBackward0>)\n",
            "tensor(0.0172, dtype=torch.float64, grad_fn=<SumBackward0>)\n",
            "tensor(0.0261, dtype=torch.float64, grad_fn=<SumBackward0>)\n",
            "tensor(0.0160, dtype=torch.float64, grad_fn=<SumBackward0>)\n",
            "tensor(0.0241, dtype=torch.float64, grad_fn=<SumBackward0>)\n",
            "tensor(0.0150, dtype=torch.float64, grad_fn=<SumBackward0>)\n",
            "tensor(0.0223, dtype=torch.float64, grad_fn=<SumBackward0>)\n",
            "tensor(0.0140, dtype=torch.float64, grad_fn=<SumBackward0>)\n",
            "tensor(0.0206, dtype=torch.float64, grad_fn=<SumBackward0>)\n",
            "tensor(0.0132, dtype=torch.float64, grad_fn=<SumBackward0>)\n",
            "tensor(0.0191, dtype=torch.float64, grad_fn=<SumBackward0>)\n",
            "tensor(0.0124, dtype=torch.float64, grad_fn=<SumBackward0>)\n"
          ]
        }
      ]
    },
    {
      "cell_type": "code",
      "metadata": {
        "colab": {
          "base_uri": "https://localhost:8080/"
        },
        "id": "s3W3tAf9dNU2",
        "outputId": "dfb5d7a0-3027-463d-9325-041ebb6d5c42"
      },
      "source": [
        "prediction = torch.sigmoid(layer3(torch.sigmoid(layer2(torch.sigmoid(layer1(torch.tensor(X_test[5])))))))\n",
        "expected = y_test[5]\n",
        "\n",
        "print(f'Predicted: {torch.argmax(prediction)}, Expected: {expected}')"
      ],
      "execution_count": 25,
      "outputs": [
        {
          "output_type": "stream",
          "name": "stdout",
          "text": [
            "Predicted: 2, Expected: 2\n"
          ]
        }
      ]
    },
    {
      "cell_type": "markdown",
      "metadata": {
        "id": "fUKixLRkdM9_"
      },
      "source": [
        "So as you can see adding this magical activation function helps to stabalize the prediction error and improve the quality of prediction by magnitudes.\n",
        "\n",
        "Alright, that covers the eager learners, since all of the above algorithms train a model in advance to generalize the training data und use these models to make predictions.\n",
        "\n",
        "## k-Nearest Neighbor (KNN)\n",
        "KNN is a lazy learning algorithm which stores all instances correspond to training data points in an $n$-dim space.  \n",
        "Calculates for unknown\n",
        "- discrete data the closest $k$ number of nearest neighbors\n",
        "- real-valued data the mean of $k$ nearest neighbors\n",
        "\n",
        "KNN is usually robust to noisy data, since it's averaging the $k$-nearest neighbors.\n",
        "\n",
        "### Code\n"
      ]
    },
    {
      "cell_type": "code",
      "metadata": {
        "colab": {
          "base_uri": "https://localhost:8080/"
        },
        "id": "5effyFZdfEEv",
        "outputId": "432d7303-97e5-4b67-89c3-796d279a51cd"
      },
      "source": [
        "import numpy as np\n",
        "import matplotlib.pyplot as plt\n",
        "import seaborn\n",
        "from matplotlib.colors import ListedColormap\n",
        "from sklearn import neighbors, datasets\n",
        "\n",
        "\n",
        "n_neighors = 10\n",
        "\n",
        "iris = datasets.load_iris()\n",
        "\n",
        "X = iris.data\n",
        "y = iris.target\n",
        "\n",
        "uniform_clf = neighbors.KNeighborsClassifier(n_neighors, weights=\"uniform\")\n",
        "uniform_clf.fit(X_train, y_train)\n",
        "\n",
        "uniform_pred = uniform_clf.predict([X_test[5]])\n",
        "\n",
        "distance_clf = neighbors.KNeighborsClassifier(n_neighors, weights=\"distance\")\n",
        "distance_clf.fit(X_train, y_train)\n",
        "\n",
        "distance_pred = distance_clf.predict([X_test[5]])\n",
        "\n",
        "print(uniform_pred)\n",
        "print(distance_pred)\n",
        "print(y_test[5])\n"
      ],
      "execution_count": 26,
      "outputs": [
        {
          "output_type": "stream",
          "name": "stdout",
          "text": [
            "[[0. 0. 1.]]\n",
            "[[0. 0. 1.]]\n",
            "2\n"
          ]
        }
      ]
    },
    {
      "cell_type": "markdown",
      "metadata": {
        "id": "DZfLKu_-oAcE"
      },
      "source": [
        "# Evaluation\n",
        "After training an algorithm it needs to be evaluated to verify its applicability.\n",
        "We've seen in previous sections things like Precision and Recall, but will now briefly verbalize some of the concepts of evaluation techniques.\n",
        "\n",
        "### Holdout method\n",
        "We split the data in the training set into 2 partitisions as test (20%) and train (80%). The train set is used to train the model and the test data set will be used to test its predictive power, as seen in the NN examples.\n",
        "\n",
        "### Cross-validation\n",
        "Overfitting is a common problem and can occure in most models. **k-fold cross-validation** can be conducted to verify over-fitting in a model. In this method the data will be randomly partitioned into $k$ mutually exclusive subsets, each approximately equal size and one is kept for testing while others are used for training. This process is iterated throught the whole $k$ folds.\n",
        "\n",
        "So in other words, we grab a fraction of the training set, use it for testing and then batch the remaining set into batches of the same size as our test set, then apply different batches while testing against the same test set.\n",
        "\n",
        "#### Cross-Valdation application\n",
        "\n"
      ]
    },
    {
      "cell_type": "code",
      "metadata": {
        "id": "qqeUzK0d_IhA"
      },
      "source": [
        "# data preparation\n",
        "import random\n",
        "from sklearn.datasets import load_iris\n",
        "from sklearn.model_selection import train_test_split\n",
        "\n",
        "batch_size = 5\n",
        "all_X, all_y = load_iris(return_X_y=True)\n",
        "\n",
        "foo = list(range(all_y.shape[0]))\n",
        "random.shuffle(foo)\n",
        "\n",
        "test_i = foo[:batch_size]\n",
        "X_test = all_X[test_i, :]\n",
        "y_test = all_y[test_i]\n",
        "\n",
        "X_train = all_X[foo[batch_size:], :]\n",
        "y_train = all_y[foo[batch_size:]]\n",
        "\n",
        "\n",
        "# transform y_train into N-dim vector containing probabilities for class N\n",
        "transformed_y_train = []\n",
        "for elem in y_train:\n",
        "  vec = [0,0,0]\n",
        "  vec[elem] = 1.0\n",
        "  transformed_y_train.append(vec)\n",
        "\n",
        "X_train = X_train\n",
        "y_train = transformed_y_train\n",
        "\n",
        "# build batches\n",
        "\n",
        "batches = []\n",
        "for b in range(int(len(y_train)/batch_size)):\n",
        "  batch = (X_train[batch_size * (b):batch_size * (b + 1), :], y_train[batch_size * (b):batch_size * (b + 1)])\n",
        "  batches.append(batch)\n"
      ],
      "execution_count": 44,
      "outputs": []
    },
    {
      "cell_type": "markdown",
      "metadata": {
        "id": "iSWk_zMgJRFD"
      },
      "source": [
        "Single Layer NN"
      ]
    },
    {
      "cell_type": "code",
      "metadata": {
        "colab": {
          "base_uri": "https://localhost:8080/"
        },
        "id": "wH8FPdG8I904",
        "outputId": "b2f83304-37a4-499e-a100-a02d8788c396"
      },
      "source": [
        "layer1 = torch.nn.Linear(X_train.shape[1], 3, dtype=float)\n",
        "optim = torch.optim.SGD([*layer1.parameters()], lr=0.1)\n",
        "\n",
        "for epoch in range(50):\n",
        "  for batch in batches:\n",
        "    optim.zero_grad()\n",
        "    X = torch.tensor(batch[0])\n",
        "    y = torch.tensor(batch[1])\n",
        "\n",
        "    output = torch.sigmoid(layer1(X))\n",
        "\n",
        "    error = torch.sum((output - y) ** 2)\n",
        "    error.backward()\n",
        "    if epoch % 50 == 0:\n",
        "      print(error)\n",
        "    optim.step()"
      ],
      "execution_count": 62,
      "outputs": [
        {
          "output_type": "stream",
          "name": "stdout",
          "text": [
            "tensor(5.4943, dtype=torch.float64, grad_fn=<SumBackward0>)\n",
            "tensor(2.7316, dtype=torch.float64, grad_fn=<SumBackward0>)\n",
            "tensor(1.5703, dtype=torch.float64, grad_fn=<SumBackward0>)\n",
            "tensor(3.3061, dtype=torch.float64, grad_fn=<SumBackward0>)\n",
            "tensor(3.2600, dtype=torch.float64, grad_fn=<SumBackward0>)\n",
            "tensor(4.2401, dtype=torch.float64, grad_fn=<SumBackward0>)\n",
            "tensor(4.5638, dtype=torch.float64, grad_fn=<SumBackward0>)\n",
            "tensor(4.1129, dtype=torch.float64, grad_fn=<SumBackward0>)\n",
            "tensor(2.9317, dtype=torch.float64, grad_fn=<SumBackward0>)\n",
            "tensor(2.7552, dtype=torch.float64, grad_fn=<SumBackward0>)\n",
            "tensor(2.4544, dtype=torch.float64, grad_fn=<SumBackward0>)\n",
            "tensor(4.6381, dtype=torch.float64, grad_fn=<SumBackward0>)\n",
            "tensor(4.6648, dtype=torch.float64, grad_fn=<SumBackward0>)\n",
            "tensor(2.1864, dtype=torch.float64, grad_fn=<SumBackward0>)\n",
            "tensor(2.9323, dtype=torch.float64, grad_fn=<SumBackward0>)\n",
            "tensor(2.5743, dtype=torch.float64, grad_fn=<SumBackward0>)\n",
            "tensor(3.9635, dtype=torch.float64, grad_fn=<SumBackward0>)\n",
            "tensor(2.7572, dtype=torch.float64, grad_fn=<SumBackward0>)\n",
            "tensor(1.7966, dtype=torch.float64, grad_fn=<SumBackward0>)\n",
            "tensor(3.9312, dtype=torch.float64, grad_fn=<SumBackward0>)\n",
            "tensor(0.7975, dtype=torch.float64, grad_fn=<SumBackward0>)\n",
            "tensor(1.2950, dtype=torch.float64, grad_fn=<SumBackward0>)\n",
            "tensor(2.4074, dtype=torch.float64, grad_fn=<SumBackward0>)\n",
            "tensor(3.0146, dtype=torch.float64, grad_fn=<SumBackward0>)\n",
            "tensor(3.4998, dtype=torch.float64, grad_fn=<SumBackward0>)\n",
            "tensor(6.1176, dtype=torch.float64, grad_fn=<SumBackward0>)\n",
            "tensor(6.1180, dtype=torch.float64, grad_fn=<SumBackward0>)\n",
            "tensor(4.0747, dtype=torch.float64, grad_fn=<SumBackward0>)\n",
            "tensor(4.7811, dtype=torch.float64, grad_fn=<SumBackward0>)\n"
          ]
        }
      ]
    },
    {
      "cell_type": "code",
      "metadata": {
        "colab": {
          "base_uri": "https://localhost:8080/"
        },
        "id": "e4lDjaplJH4g",
        "outputId": "588e906e-7e2d-4a3d-a51f-f1a74265df6a"
      },
      "source": [
        "prediction = torch.sigmoid(layer1(torch.tensor(X_test[-1])))\n",
        "expected = y_test[-1]\n",
        "print(prediction)\n",
        "\n",
        "print(f'Predicted: {prediction.argmax()}, Expected: {expected}')"
      ],
      "execution_count": 64,
      "outputs": [
        {
          "output_type": "stream",
          "name": "stdout",
          "text": [
            "tensor([9.5460e-01, 2.5805e-02, 1.8661e-08], dtype=torch.float64,\n",
            "       grad_fn=<SigmoidBackward>)\n",
            "Predicted: 0, Expected: 0\n"
          ]
        }
      ]
    },
    {
      "cell_type": "markdown",
      "metadata": {
        "id": "_hlOOl9VJXL5"
      },
      "source": [
        "Multi-layer NN"
      ]
    },
    {
      "cell_type": "code",
      "metadata": {
        "colab": {
          "base_uri": "https://localhost:8080/"
        },
        "id": "tbPnn5ob-3vc",
        "outputId": "4e07f3d4-9490-40f2-9307-dcab6bb7e12c"
      },
      "source": [
        "layer1_out = 18\n",
        "layer2_out = 8\n",
        "final_out = 3\n",
        "\n",
        "layer1 = torch.nn.Linear(X_train.shape[1], layer1_out, dtype=float)\n",
        "layer2 = torch.nn.Linear(layer1_out, layer2_out, dtype=float)\n",
        "layer3 = torch.nn.Linear(layer2_out, final_out, dtype=float)\n",
        "layer3(layer2(layer1(torch.tensor(X_test[-1], dtype=float))))\n",
        "optim = torch.optim.SGD([*layer1.parameters(), *layer2.parameters(), *layer3.parameters()], lr=0.1)\n",
        "\n",
        "for epoch in range(50):\n",
        "  for batch in batches:\n",
        "    optim.zero_grad()\n",
        "    X = torch.tensor(batch[0])\n",
        "    y = torch.tensor(batch[1])\n",
        "\n",
        "    o1 = torch.sigmoid(layer1(X))\n",
        "    o2 = torch.sigmoid(layer2(o1))\n",
        "    output = torch.sigmoid(layer3(o2))\n",
        "\n",
        "    error = torch.sum((output - y) ** 2)\n",
        "    error.backward()\n",
        "    if epoch % 50 == 0:\n",
        "      print(error)\n",
        "    optim.step()"
      ],
      "execution_count": 66,
      "outputs": [
        {
          "output_type": "stream",
          "name": "stdout",
          "text": [
            "tensor(3.5157, dtype=torch.float64, grad_fn=<SumBackward0>)\n",
            "tensor(3.4490, dtype=torch.float64, grad_fn=<SumBackward0>)\n",
            "tensor(3.1660, dtype=torch.float64, grad_fn=<SumBackward0>)\n",
            "tensor(3.2583, dtype=torch.float64, grad_fn=<SumBackward0>)\n",
            "tensor(3.2894, dtype=torch.float64, grad_fn=<SumBackward0>)\n",
            "tensor(3.7224, dtype=torch.float64, grad_fn=<SumBackward0>)\n",
            "tensor(3.5022, dtype=torch.float64, grad_fn=<SumBackward0>)\n",
            "tensor(3.3989, dtype=torch.float64, grad_fn=<SumBackward0>)\n",
            "tensor(3.3374, dtype=torch.float64, grad_fn=<SumBackward0>)\n",
            "tensor(3.4981, dtype=torch.float64, grad_fn=<SumBackward0>)\n",
            "tensor(3.4187, dtype=torch.float64, grad_fn=<SumBackward0>)\n",
            "tensor(3.3795, dtype=torch.float64, grad_fn=<SumBackward0>)\n",
            "tensor(3.2440, dtype=torch.float64, grad_fn=<SumBackward0>)\n",
            "tensor(3.7034, dtype=torch.float64, grad_fn=<SumBackward0>)\n",
            "tensor(3.3137, dtype=torch.float64, grad_fn=<SumBackward0>)\n",
            "tensor(3.5064, dtype=torch.float64, grad_fn=<SumBackward0>)\n",
            "tensor(3.2872, dtype=torch.float64, grad_fn=<SumBackward0>)\n",
            "tensor(3.3377, dtype=torch.float64, grad_fn=<SumBackward0>)\n",
            "tensor(3.4969, dtype=torch.float64, grad_fn=<SumBackward0>)\n",
            "tensor(3.5075, dtype=torch.float64, grad_fn=<SumBackward0>)\n",
            "tensor(3.4674, dtype=torch.float64, grad_fn=<SumBackward0>)\n",
            "tensor(3.3958, dtype=torch.float64, grad_fn=<SumBackward0>)\n",
            "tensor(3.2738, dtype=torch.float64, grad_fn=<SumBackward0>)\n",
            "tensor(3.5705, dtype=torch.float64, grad_fn=<SumBackward0>)\n",
            "tensor(3.7423, dtype=torch.float64, grad_fn=<SumBackward0>)\n",
            "tensor(3.3966, dtype=torch.float64, grad_fn=<SumBackward0>)\n",
            "tensor(3.5110, dtype=torch.float64, grad_fn=<SumBackward0>)\n",
            "tensor(3.5155, dtype=torch.float64, grad_fn=<SumBackward0>)\n",
            "tensor(3.4372, dtype=torch.float64, grad_fn=<SumBackward0>)\n"
          ]
        }
      ]
    },
    {
      "cell_type": "code",
      "metadata": {
        "colab": {
          "base_uri": "https://localhost:8080/"
        },
        "id": "0Kd2eVNyDOY_",
        "outputId": "a62f9b27-ae5f-43b4-b6b9-8f60678f16a8"
      },
      "source": [
        "prediction = torch.sigmoid(layer3(torch.sigmoid(layer2(torch.sigmoid(layer1(torch.tensor(X_test[-1])))))))\n",
        "expected = y_test[-1]\n",
        "print(prediction)\n",
        "\n",
        "print(f'Predicted: {prediction.argmax()}, Expected: {expected}')"
      ],
      "execution_count": 67,
      "outputs": [
        {
          "output_type": "stream",
          "name": "stdout",
          "text": [
            "tensor([9.4492e-01, 6.2796e-02, 4.4966e-04], dtype=torch.float64,\n",
            "       grad_fn=<SigmoidBackward>)\n",
            "Predicted: 0, Expected: 0\n"
          ]
        }
      ]
    },
    {
      "cell_type": "markdown",
      "metadata": {
        "id": "0hbWRAZND6_4"
      },
      "source": [
        "As you can see using **cross-validation** can even improve results from NNs. Whereas the regular holdout approach required a few iterations over the full training set to perform comparable."
      ]
    },
    {
      "cell_type": "markdown",
      "metadata": {
        "id": "Kkt_H5wV-4dO"
      },
      "source": [
        "\n",
        "\n",
        "## [Precision and Recall](/Machine_Learning/Precision_Recall.ipynb)\n"
      ]
    }
  ]
}